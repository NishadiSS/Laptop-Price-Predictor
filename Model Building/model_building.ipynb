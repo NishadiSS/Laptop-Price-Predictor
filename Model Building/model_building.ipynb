{
 "cells": [
  {
   "cell_type": "code",
   "execution_count": 2,
   "id": "964fca82-429a-42d8-9e7d-9ec900474e70",
   "metadata": {},
   "outputs": [
    {
     "name": "stdout",
     "output_type": "stream",
     "text": [
      "Requirement already satisfied: numpy in c:\\users\\nishadi\\desktop\\laptop-price-predictor\\model building\\env\\lib\\site-packages (2.0.0)\n"
     ]
    },
    {
     "name": "stderr",
     "output_type": "stream",
     "text": [
      "\n",
      "[notice] A new release of pip is available: 23.2.1 -> 24.1.2\n",
      "[notice] To update, run: python.exe -m pip install --upgrade pip\n"
     ]
    },
    {
     "name": "stdout",
     "output_type": "stream",
     "text": [
      "Requirement already satisfied: pandas in c:\\users\\nishadi\\desktop\\laptop-price-predictor\\model building\\env\\lib\\site-packages (2.2.2)\n",
      "Requirement already satisfied: numpy>=1.26.0 in c:\\users\\nishadi\\desktop\\laptop-price-predictor\\model building\\env\\lib\\site-packages (from pandas) (2.0.0)\n",
      "Requirement already satisfied: python-dateutil>=2.8.2 in c:\\users\\nishadi\\desktop\\laptop-price-predictor\\model building\\env\\lib\\site-packages (from pandas) (2.9.0.post0)\n",
      "Requirement already satisfied: pytz>=2020.1 in c:\\users\\nishadi\\desktop\\laptop-price-predictor\\model building\\env\\lib\\site-packages (from pandas) (2024.1)\n",
      "Requirement already satisfied: tzdata>=2022.7 in c:\\users\\nishadi\\desktop\\laptop-price-predictor\\model building\\env\\lib\\site-packages (from pandas) (2024.1)\n",
      "Requirement already satisfied: six>=1.5 in c:\\users\\nishadi\\desktop\\laptop-price-predictor\\model building\\env\\lib\\site-packages (from python-dateutil>=2.8.2->pandas) (1.16.0)\n"
     ]
    },
    {
     "name": "stderr",
     "output_type": "stream",
     "text": [
      "\n",
      "[notice] A new release of pip is available: 23.2.1 -> 24.1.2\n",
      "[notice] To update, run: python.exe -m pip install --upgrade pip\n"
     ]
    }
   ],
   "source": [
    "!pip install numpy\n",
    "!pip install pandas"
   ]
  },
  {
   "cell_type": "code",
   "execution_count": 6,
   "id": "25d6b3bf-dafe-49a5-b213-de8e48fb418b",
   "metadata": {},
   "outputs": [],
   "source": [
    "import numpy as np\n",
    "import pandas as pd"
   ]
  },
  {
   "cell_type": "code",
   "execution_count": 7,
   "id": "6f4aca83-459b-4d8f-81d5-a5f039306da7",
   "metadata": {
    "scrolled": true
   },
   "outputs": [
    {
     "data": {
      "text/html": [
       "<div>\n",
       "<style scoped>\n",
       "    .dataframe tbody tr th:only-of-type {\n",
       "        vertical-align: middle;\n",
       "    }\n",
       "\n",
       "    .dataframe tbody tr th {\n",
       "        vertical-align: top;\n",
       "    }\n",
       "\n",
       "    .dataframe thead th {\n",
       "        text-align: right;\n",
       "    }\n",
       "</style>\n",
       "<table border=\"1\" class=\"dataframe\">\n",
       "  <thead>\n",
       "    <tr style=\"text-align: right;\">\n",
       "      <th></th>\n",
       "      <th>laptop_ID</th>\n",
       "      <th>Company</th>\n",
       "      <th>Product</th>\n",
       "      <th>TypeName</th>\n",
       "      <th>Inches</th>\n",
       "      <th>ScreenResolution</th>\n",
       "      <th>Cpu</th>\n",
       "      <th>Ram</th>\n",
       "      <th>Gpu</th>\n",
       "      <th>OpSys</th>\n",
       "      <th>Weight</th>\n",
       "      <th>Price_euros</th>\n",
       "    </tr>\n",
       "  </thead>\n",
       "  <tbody>\n",
       "    <tr>\n",
       "      <th>0</th>\n",
       "      <td>1</td>\n",
       "      <td>Apple</td>\n",
       "      <td>MacBook Pro</td>\n",
       "      <td>Ultrabook</td>\n",
       "      <td>13.3</td>\n",
       "      <td>IPS Panel Retina Display 2560x1600</td>\n",
       "      <td>Intel Core i5 2.3GHz</td>\n",
       "      <td>8GB</td>\n",
       "      <td>Intel Iris Plus Graphics 640</td>\n",
       "      <td>macOS</td>\n",
       "      <td>1.37kg</td>\n",
       "      <td>1339.69</td>\n",
       "    </tr>\n",
       "    <tr>\n",
       "      <th>1</th>\n",
       "      <td>2</td>\n",
       "      <td>Apple</td>\n",
       "      <td>Macbook Air</td>\n",
       "      <td>Ultrabook</td>\n",
       "      <td>13.3</td>\n",
       "      <td>1440x900</td>\n",
       "      <td>Intel Core i5 1.8GHz</td>\n",
       "      <td>8GB</td>\n",
       "      <td>Intel HD Graphics 6000</td>\n",
       "      <td>macOS</td>\n",
       "      <td>1.34kg</td>\n",
       "      <td>898.94</td>\n",
       "    </tr>\n",
       "    <tr>\n",
       "      <th>2</th>\n",
       "      <td>3</td>\n",
       "      <td>HP</td>\n",
       "      <td>250 G6</td>\n",
       "      <td>Notebook</td>\n",
       "      <td>15.6</td>\n",
       "      <td>Full HD 1920x1080</td>\n",
       "      <td>Intel Core i5 7200U 2.5GHz</td>\n",
       "      <td>8GB</td>\n",
       "      <td>Intel HD Graphics 620</td>\n",
       "      <td>No OS</td>\n",
       "      <td>1.86kg</td>\n",
       "      <td>575.00</td>\n",
       "    </tr>\n",
       "    <tr>\n",
       "      <th>3</th>\n",
       "      <td>4</td>\n",
       "      <td>Apple</td>\n",
       "      <td>MacBook Pro</td>\n",
       "      <td>Ultrabook</td>\n",
       "      <td>15.4</td>\n",
       "      <td>IPS Panel Retina Display 2880x1800</td>\n",
       "      <td>Intel Core i7 2.7GHz</td>\n",
       "      <td>16GB</td>\n",
       "      <td>AMD Radeon Pro 455</td>\n",
       "      <td>macOS</td>\n",
       "      <td>1.83kg</td>\n",
       "      <td>2537.45</td>\n",
       "    </tr>\n",
       "    <tr>\n",
       "      <th>4</th>\n",
       "      <td>5</td>\n",
       "      <td>Apple</td>\n",
       "      <td>MacBook Pro</td>\n",
       "      <td>Ultrabook</td>\n",
       "      <td>13.3</td>\n",
       "      <td>IPS Panel Retina Display 2560x1600</td>\n",
       "      <td>Intel Core i5 3.1GHz</td>\n",
       "      <td>8GB</td>\n",
       "      <td>Intel Iris Plus Graphics 650</td>\n",
       "      <td>macOS</td>\n",
       "      <td>1.37kg</td>\n",
       "      <td>1803.60</td>\n",
       "    </tr>\n",
       "    <tr>\n",
       "      <th>...</th>\n",
       "      <td>...</td>\n",
       "      <td>...</td>\n",
       "      <td>...</td>\n",
       "      <td>...</td>\n",
       "      <td>...</td>\n",
       "      <td>...</td>\n",
       "      <td>...</td>\n",
       "      <td>...</td>\n",
       "      <td>...</td>\n",
       "      <td>...</td>\n",
       "      <td>...</td>\n",
       "      <td>...</td>\n",
       "    </tr>\n",
       "    <tr>\n",
       "      <th>1298</th>\n",
       "      <td>1316</td>\n",
       "      <td>Lenovo</td>\n",
       "      <td>Yoga 500-14ISK</td>\n",
       "      <td>2 in 1 Convertible</td>\n",
       "      <td>14.0</td>\n",
       "      <td>IPS Panel Full HD / Touchscreen 1920x1080</td>\n",
       "      <td>Intel Core i7 6500U 2.5GHz</td>\n",
       "      <td>4GB</td>\n",
       "      <td>Intel HD Graphics 520</td>\n",
       "      <td>Windows 10</td>\n",
       "      <td>1.8kg</td>\n",
       "      <td>638.00</td>\n",
       "    </tr>\n",
       "    <tr>\n",
       "      <th>1299</th>\n",
       "      <td>1317</td>\n",
       "      <td>Lenovo</td>\n",
       "      <td>Yoga 900-13ISK</td>\n",
       "      <td>2 in 1 Convertible</td>\n",
       "      <td>13.3</td>\n",
       "      <td>IPS Panel Quad HD+ / Touchscreen 3200x1800</td>\n",
       "      <td>Intel Core i7 6500U 2.5GHz</td>\n",
       "      <td>16GB</td>\n",
       "      <td>Intel HD Graphics 520</td>\n",
       "      <td>Windows 10</td>\n",
       "      <td>1.3kg</td>\n",
       "      <td>1499.00</td>\n",
       "    </tr>\n",
       "    <tr>\n",
       "      <th>1300</th>\n",
       "      <td>1318</td>\n",
       "      <td>Lenovo</td>\n",
       "      <td>IdeaPad 100S-14IBR</td>\n",
       "      <td>Notebook</td>\n",
       "      <td>14.0</td>\n",
       "      <td>1366x768</td>\n",
       "      <td>Intel Celeron Dual Core N3050 1.6GHz</td>\n",
       "      <td>2GB</td>\n",
       "      <td>Intel HD Graphics</td>\n",
       "      <td>Windows 10</td>\n",
       "      <td>1.5kg</td>\n",
       "      <td>229.00</td>\n",
       "    </tr>\n",
       "    <tr>\n",
       "      <th>1301</th>\n",
       "      <td>1319</td>\n",
       "      <td>HP</td>\n",
       "      <td>15-AC110nv (i7-6500U/6GB/1TB/Radeon</td>\n",
       "      <td>Notebook</td>\n",
       "      <td>15.6</td>\n",
       "      <td>1366x768</td>\n",
       "      <td>Intel Core i7 6500U 2.5GHz</td>\n",
       "      <td>6GB</td>\n",
       "      <td>AMD Radeon R5 M330</td>\n",
       "      <td>Windows 10</td>\n",
       "      <td>2.19kg</td>\n",
       "      <td>764.00</td>\n",
       "    </tr>\n",
       "    <tr>\n",
       "      <th>1302</th>\n",
       "      <td>1320</td>\n",
       "      <td>Asus</td>\n",
       "      <td>X553SA-XX031T (N3050/4GB/500GB/W10)</td>\n",
       "      <td>Notebook</td>\n",
       "      <td>15.6</td>\n",
       "      <td>1366x768</td>\n",
       "      <td>Intel Celeron Dual Core N3050 1.6GHz</td>\n",
       "      <td>4GB</td>\n",
       "      <td>Intel HD Graphics</td>\n",
       "      <td>Windows 10</td>\n",
       "      <td>2.2kg</td>\n",
       "      <td>369.00</td>\n",
       "    </tr>\n",
       "  </tbody>\n",
       "</table>\n",
       "<p>1303 rows × 12 columns</p>\n",
       "</div>"
      ],
      "text/plain": [
       "      laptop_ID Company                              Product  \\\n",
       "0             1   Apple                          MacBook Pro   \n",
       "1             2   Apple                          Macbook Air   \n",
       "2             3      HP                               250 G6   \n",
       "3             4   Apple                          MacBook Pro   \n",
       "4             5   Apple                          MacBook Pro   \n",
       "...         ...     ...                                  ...   \n",
       "1298       1316  Lenovo                       Yoga 500-14ISK   \n",
       "1299       1317  Lenovo                       Yoga 900-13ISK   \n",
       "1300       1318  Lenovo                   IdeaPad 100S-14IBR   \n",
       "1301       1319      HP  15-AC110nv (i7-6500U/6GB/1TB/Radeon   \n",
       "1302       1320    Asus  X553SA-XX031T (N3050/4GB/500GB/W10)   \n",
       "\n",
       "                TypeName  Inches                            ScreenResolution  \\\n",
       "0              Ultrabook    13.3          IPS Panel Retina Display 2560x1600   \n",
       "1              Ultrabook    13.3                                    1440x900   \n",
       "2               Notebook    15.6                           Full HD 1920x1080   \n",
       "3              Ultrabook    15.4          IPS Panel Retina Display 2880x1800   \n",
       "4              Ultrabook    13.3          IPS Panel Retina Display 2560x1600   \n",
       "...                  ...     ...                                         ...   \n",
       "1298  2 in 1 Convertible    14.0   IPS Panel Full HD / Touchscreen 1920x1080   \n",
       "1299  2 in 1 Convertible    13.3  IPS Panel Quad HD+ / Touchscreen 3200x1800   \n",
       "1300            Notebook    14.0                                    1366x768   \n",
       "1301            Notebook    15.6                                    1366x768   \n",
       "1302            Notebook    15.6                                    1366x768   \n",
       "\n",
       "                                       Cpu   Ram  \\\n",
       "0                     Intel Core i5 2.3GHz   8GB   \n",
       "1                     Intel Core i5 1.8GHz   8GB   \n",
       "2               Intel Core i5 7200U 2.5GHz   8GB   \n",
       "3                     Intel Core i7 2.7GHz  16GB   \n",
       "4                     Intel Core i5 3.1GHz   8GB   \n",
       "...                                    ...   ...   \n",
       "1298            Intel Core i7 6500U 2.5GHz   4GB   \n",
       "1299            Intel Core i7 6500U 2.5GHz  16GB   \n",
       "1300  Intel Celeron Dual Core N3050 1.6GHz   2GB   \n",
       "1301            Intel Core i7 6500U 2.5GHz   6GB   \n",
       "1302  Intel Celeron Dual Core N3050 1.6GHz   4GB   \n",
       "\n",
       "                               Gpu       OpSys  Weight  Price_euros  \n",
       "0     Intel Iris Plus Graphics 640       macOS  1.37kg      1339.69  \n",
       "1           Intel HD Graphics 6000       macOS  1.34kg       898.94  \n",
       "2            Intel HD Graphics 620       No OS  1.86kg       575.00  \n",
       "3               AMD Radeon Pro 455       macOS  1.83kg      2537.45  \n",
       "4     Intel Iris Plus Graphics 650       macOS  1.37kg      1803.60  \n",
       "...                            ...         ...     ...          ...  \n",
       "1298         Intel HD Graphics 520  Windows 10   1.8kg       638.00  \n",
       "1299         Intel HD Graphics 520  Windows 10   1.3kg      1499.00  \n",
       "1300             Intel HD Graphics  Windows 10   1.5kg       229.00  \n",
       "1301            AMD Radeon R5 M330  Windows 10  2.19kg       764.00  \n",
       "1302             Intel HD Graphics  Windows 10   2.2kg       369.00  \n",
       "\n",
       "[1303 rows x 12 columns]"
      ]
     },
     "execution_count": 7,
     "metadata": {},
     "output_type": "execute_result"
    }
   ],
   "source": [
    "#load the dataset\n",
    "data = pd.read_csv(\"laptop_price.csv\",encoding='latin-1')\n",
    "data"
   ]
  },
  {
   "cell_type": "code",
   "execution_count": 8,
   "id": "ab0d34cb-9e75-4bfc-ae81-de8bc749dc4e",
   "metadata": {},
   "outputs": [
    {
     "data": {
      "text/plain": [
       "(1303, 12)"
      ]
     },
     "execution_count": 8,
     "metadata": {},
     "output_type": "execute_result"
    }
   ],
   "source": [
    "data.shape"
   ]
  },
  {
   "cell_type": "code",
   "execution_count": 9,
   "id": "bfb2b465-2da6-466e-a084-f0d2327f31d7",
   "metadata": {},
   "outputs": [
    {
     "data": {
      "text/plain": [
       "laptop_ID           0\n",
       "Company             0\n",
       "Product             0\n",
       "TypeName            0\n",
       "Inches              0\n",
       "ScreenResolution    0\n",
       "Cpu                 0\n",
       "Ram                 0\n",
       "Gpu                 0\n",
       "OpSys               0\n",
       "Weight              0\n",
       "Price_euros         0\n",
       "dtype: int64"
      ]
     },
     "execution_count": 9,
     "metadata": {},
     "output_type": "execute_result"
    }
   ],
   "source": [
    "data.isnull().sum()"
   ]
  },
  {
   "cell_type": "code",
   "execution_count": 10,
   "id": "f53f69af-4029-4f33-8fec-a2eb20cc8165",
   "metadata": {},
   "outputs": [
    {
     "name": "stdout",
     "output_type": "stream",
     "text": [
      "<class 'pandas.core.frame.DataFrame'>\n",
      "RangeIndex: 1303 entries, 0 to 1302\n",
      "Data columns (total 12 columns):\n",
      " #   Column            Non-Null Count  Dtype  \n",
      "---  ------            --------------  -----  \n",
      " 0   laptop_ID         1303 non-null   int64  \n",
      " 1   Company           1303 non-null   object \n",
      " 2   Product           1303 non-null   object \n",
      " 3   TypeName          1303 non-null   object \n",
      " 4   Inches            1303 non-null   float64\n",
      " 5   ScreenResolution  1303 non-null   object \n",
      " 6   Cpu               1303 non-null   object \n",
      " 7   Ram               1303 non-null   object \n",
      " 8   Gpu               1303 non-null   object \n",
      " 9   OpSys             1303 non-null   object \n",
      " 10  Weight            1303 non-null   object \n",
      " 11  Price_euros       1303 non-null   float64\n",
      "dtypes: float64(2), int64(1), object(9)\n",
      "memory usage: 122.3+ KB\n"
     ]
    }
   ],
   "source": [
    "data.info()"
   ]
  },
  {
   "cell_type": "markdown",
   "id": "7a23515f-d868-45a3-aeb7-355cee2e53c5",
   "metadata": {},
   "source": [
    "# Data Analysis"
   ]
  },
  {
   "cell_type": "code",
   "execution_count": 11,
   "id": "014edaf4-7e86-49f9-a21b-c85c99c1b1ff",
   "metadata": {},
   "outputs": [],
   "source": [
    "data['Ram']=data['Ram'].str.replace('GB','').astype('int32')"
   ]
  },
  {
   "cell_type": "code",
   "execution_count": 12,
   "id": "54d8da1c-a8b2-4e50-89b2-2bcd019812d6",
   "metadata": {},
   "outputs": [],
   "source": [
    "data['Weight']=data['Weight'].str.replace('kg','').astype('float32')"
   ]
  },
  {
   "cell_type": "code",
   "execution_count": 13,
   "id": "fceb2034-2f8e-4103-bb94-0ba2de520189",
   "metadata": {},
   "outputs": [
    {
     "data": {
      "text/html": [
       "<div>\n",
       "<style scoped>\n",
       "    .dataframe tbody tr th:only-of-type {\n",
       "        vertical-align: middle;\n",
       "    }\n",
       "\n",
       "    .dataframe tbody tr th {\n",
       "        vertical-align: top;\n",
       "    }\n",
       "\n",
       "    .dataframe thead th {\n",
       "        text-align: right;\n",
       "    }\n",
       "</style>\n",
       "<table border=\"1\" class=\"dataframe\">\n",
       "  <thead>\n",
       "    <tr style=\"text-align: right;\">\n",
       "      <th></th>\n",
       "      <th>laptop_ID</th>\n",
       "      <th>Company</th>\n",
       "      <th>Product</th>\n",
       "      <th>TypeName</th>\n",
       "      <th>Inches</th>\n",
       "      <th>ScreenResolution</th>\n",
       "      <th>Cpu</th>\n",
       "      <th>Ram</th>\n",
       "      <th>Gpu</th>\n",
       "      <th>OpSys</th>\n",
       "      <th>Weight</th>\n",
       "      <th>Price_euros</th>\n",
       "    </tr>\n",
       "  </thead>\n",
       "  <tbody>\n",
       "    <tr>\n",
       "      <th>0</th>\n",
       "      <td>1</td>\n",
       "      <td>Apple</td>\n",
       "      <td>MacBook Pro</td>\n",
       "      <td>Ultrabook</td>\n",
       "      <td>13.3</td>\n",
       "      <td>IPS Panel Retina Display 2560x1600</td>\n",
       "      <td>Intel Core i5 2.3GHz</td>\n",
       "      <td>8</td>\n",
       "      <td>Intel Iris Plus Graphics 640</td>\n",
       "      <td>macOS</td>\n",
       "      <td>1.37</td>\n",
       "      <td>1339.69</td>\n",
       "    </tr>\n",
       "    <tr>\n",
       "      <th>1</th>\n",
       "      <td>2</td>\n",
       "      <td>Apple</td>\n",
       "      <td>Macbook Air</td>\n",
       "      <td>Ultrabook</td>\n",
       "      <td>13.3</td>\n",
       "      <td>1440x900</td>\n",
       "      <td>Intel Core i5 1.8GHz</td>\n",
       "      <td>8</td>\n",
       "      <td>Intel HD Graphics 6000</td>\n",
       "      <td>macOS</td>\n",
       "      <td>1.34</td>\n",
       "      <td>898.94</td>\n",
       "    </tr>\n",
       "  </tbody>\n",
       "</table>\n",
       "</div>"
      ],
      "text/plain": [
       "   laptop_ID Company      Product   TypeName  Inches  \\\n",
       "0          1   Apple  MacBook Pro  Ultrabook    13.3   \n",
       "1          2   Apple  Macbook Air  Ultrabook    13.3   \n",
       "\n",
       "                     ScreenResolution                   Cpu  Ram  \\\n",
       "0  IPS Panel Retina Display 2560x1600  Intel Core i5 2.3GHz    8   \n",
       "1                            1440x900  Intel Core i5 1.8GHz    8   \n",
       "\n",
       "                            Gpu  OpSys  Weight  Price_euros  \n",
       "0  Intel Iris Plus Graphics 640  macOS    1.37      1339.69  \n",
       "1        Intel HD Graphics 6000  macOS    1.34       898.94  "
      ]
     },
     "execution_count": 13,
     "metadata": {},
     "output_type": "execute_result"
    }
   ],
   "source": [
    "data.head(2)"
   ]
  },
  {
   "cell_type": "markdown",
   "id": "02ba369d-04cb-469a-a254-4d829c16de66",
   "metadata": {},
   "source": [
    "## Company Column"
   ]
  },
  {
   "cell_type": "code",
   "execution_count": 14,
   "id": "1a16553e-5fe5-4664-befc-0fd2440b52c6",
   "metadata": {},
   "outputs": [
    {
     "data": {
      "text/plain": [
       "Company\n",
       "Dell         297\n",
       "Lenovo       297\n",
       "HP           274\n",
       "Asus         158\n",
       "Acer         103\n",
       "MSI           54\n",
       "Toshiba       48\n",
       "Apple         21\n",
       "Samsung        9\n",
       "Mediacom       7\n",
       "Razer          7\n",
       "Microsoft      6\n",
       "Vero           4\n",
       "Xiaomi         4\n",
       "Chuwi          3\n",
       "Fujitsu        3\n",
       "Google         3\n",
       "LG             3\n",
       "Huawei         2\n",
       "Name: count, dtype: int64"
      ]
     },
     "execution_count": 14,
     "metadata": {},
     "output_type": "execute_result"
    }
   ],
   "source": [
    "data['Company'].value_counts()"
   ]
  },
  {
   "cell_type": "code",
   "execution_count": 15,
   "id": "2613ac5a-2bcf-4f3a-baa8-010fbc94debe",
   "metadata": {},
   "outputs": [],
   "source": [
    "def add_company(inpt):\n",
    "    if inpt == 'Samsung' or inpt == 'Razer' or inpt == 'Mediacom' or inpt == 'Microsoft'or inpt == 'Xiaomi'or inpt == 'Vero'or inpt == 'Chuwi'or inpt == 'Google'or inpt == 'Fujitsu'or inpt == 'LG'or inpt == 'Huawei':\n",
    "        return 'Other'\n",
    "    else:\n",
    "        return inpt"
   ]
  },
  {
   "cell_type": "code",
   "execution_count": 16,
   "id": "50001c3d-c144-45c5-a59f-d4c5906e1055",
   "metadata": {},
   "outputs": [],
   "source": [
    "data['Company'] = data['Company'].apply(add_company)"
   ]
  },
  {
   "cell_type": "code",
   "execution_count": 17,
   "id": "75b7c60d-11e8-4f88-a11d-ce95a43c8a67",
   "metadata": {},
   "outputs": [
    {
     "data": {
      "text/plain": [
       "Company\n",
       "Dell       297\n",
       "Lenovo     297\n",
       "HP         274\n",
       "Asus       158\n",
       "Acer       103\n",
       "MSI         54\n",
       "Other       51\n",
       "Toshiba     48\n",
       "Apple       21\n",
       "Name: count, dtype: int64"
      ]
     },
     "execution_count": 17,
     "metadata": {},
     "output_type": "execute_result"
    }
   ],
   "source": [
    "data['Company'].value_counts()"
   ]
  },
  {
   "cell_type": "markdown",
   "id": "58eccab0-38b1-4ae3-9ccc-44cf4a162710",
   "metadata": {},
   "source": [
    "## Product Column"
   ]
  },
  {
   "cell_type": "code",
   "execution_count": 18,
   "id": "14dfccb6-dba4-4b8e-90a1-d792f68e14b2",
   "metadata": {},
   "outputs": [
    {
     "data": {
      "text/plain": [
       "618"
      ]
     },
     "execution_count": 18,
     "metadata": {},
     "output_type": "execute_result"
    }
   ],
   "source": [
    "len(data['Product'].value_counts())"
   ]
  },
  {
   "cell_type": "markdown",
   "id": "af0e1cb4-29f8-4a8d-9a59-47c43b3d3c07",
   "metadata": {},
   "source": [
    "## TypeName Column"
   ]
  },
  {
   "cell_type": "code",
   "execution_count": 19,
   "id": "e9836a2f-fc02-41a2-ba32-55f5cd7c3972",
   "metadata": {},
   "outputs": [
    {
     "data": {
      "text/plain": [
       "TypeName\n",
       "Notebook              727\n",
       "Gaming                205\n",
       "Ultrabook             196\n",
       "2 in 1 Convertible    121\n",
       "Workstation            29\n",
       "Netbook                25\n",
       "Name: count, dtype: int64"
      ]
     },
     "execution_count": 19,
     "metadata": {},
     "output_type": "execute_result"
    }
   ],
   "source": [
    "data['TypeName'].value_counts()"
   ]
  },
  {
   "cell_type": "markdown",
   "id": "4323c8ee-ca44-49da-b6a8-611a216f27e8",
   "metadata": {},
   "source": [
    "## ScreenResolution Column"
   ]
  },
  {
   "cell_type": "code",
   "execution_count": 20,
   "id": "84f517bf-5e4d-47da-b4df-4a0999c3489d",
   "metadata": {},
   "outputs": [
    {
     "data": {
      "text/plain": [
       "ScreenResolution\n",
       "Full HD 1920x1080                                507\n",
       "1366x768                                         281\n",
       "IPS Panel Full HD 1920x1080                      230\n",
       "IPS Panel Full HD / Touchscreen 1920x1080         53\n",
       "Full HD / Touchscreen 1920x1080                   47\n",
       "1600x900                                          23\n",
       "Touchscreen 1366x768                              16\n",
       "Quad HD+ / Touchscreen 3200x1800                  15\n",
       "IPS Panel 4K Ultra HD 3840x2160                   12\n",
       "IPS Panel 4K Ultra HD / Touchscreen 3840x2160     11\n",
       "4K Ultra HD / Touchscreen 3840x2160               10\n",
       "IPS Panel 1366x768                                 7\n",
       "Touchscreen 2560x1440                              7\n",
       "4K Ultra HD 3840x2160                              7\n",
       "IPS Panel Retina Display 2304x1440                 6\n",
       "IPS Panel Retina Display 2560x1600                 6\n",
       "Touchscreen 2256x1504                              6\n",
       "IPS Panel Quad HD+ / Touchscreen 3200x1800         6\n",
       "IPS Panel Touchscreen 2560x1440                    5\n",
       "IPS Panel Retina Display 2880x1800                 4\n",
       "1440x900                                           4\n",
       "IPS Panel Touchscreen 1920x1200                    4\n",
       "IPS Panel 2560x1440                                4\n",
       "IPS Panel Quad HD+ 2560x1440                       3\n",
       "IPS Panel Touchscreen 1366x768                     3\n",
       "Quad HD+ 3200x1800                                 3\n",
       "1920x1080                                          3\n",
       "2560x1440                                          3\n",
       "Touchscreen 2400x1600                              3\n",
       "IPS Panel Quad HD+ 3200x1800                       2\n",
       "IPS Panel Full HD 2160x1440                        2\n",
       "IPS Panel Touchscreen / 4K Ultra HD 3840x2160      2\n",
       "IPS Panel Full HD 1366x768                         1\n",
       "Touchscreen / Quad HD+ 3200x1800                   1\n",
       "IPS Panel Retina Display 2736x1824                 1\n",
       "IPS Panel Full HD 2560x1440                        1\n",
       "IPS Panel Full HD 1920x1200                        1\n",
       "Touchscreen / Full HD 1920x1080                    1\n",
       "Touchscreen / 4K Ultra HD 3840x2160                1\n",
       "IPS Panel Touchscreen 2400x1600                    1\n",
       "Name: count, dtype: int64"
      ]
     },
     "execution_count": 20,
     "metadata": {},
     "output_type": "execute_result"
    }
   ],
   "source": [
    "data['ScreenResolution'].value_counts()"
   ]
  },
  {
   "cell_type": "code",
   "execution_count": 21,
   "id": "335c7408-fcfb-4cb0-95d7-73bcdf906b4b",
   "metadata": {},
   "outputs": [],
   "source": [
    "data['Touchscreen'] = data['ScreenResolution'].apply(lambda x:1 if 'Touchscreen' in x else 0)\n",
    "data['Ips'] = data['ScreenResolution'].apply(lambda x:1 if 'IPS' in x else 0)"
   ]
  },
  {
   "cell_type": "code",
   "execution_count": 22,
   "id": "0e7a53df-b6ed-4b0b-af3b-64eea9cfa046",
   "metadata": {},
   "outputs": [
    {
     "data": {
      "text/html": [
       "<div>\n",
       "<style scoped>\n",
       "    .dataframe tbody tr th:only-of-type {\n",
       "        vertical-align: middle;\n",
       "    }\n",
       "\n",
       "    .dataframe tbody tr th {\n",
       "        vertical-align: top;\n",
       "    }\n",
       "\n",
       "    .dataframe thead th {\n",
       "        text-align: right;\n",
       "    }\n",
       "</style>\n",
       "<table border=\"1\" class=\"dataframe\">\n",
       "  <thead>\n",
       "    <tr style=\"text-align: right;\">\n",
       "      <th></th>\n",
       "      <th>laptop_ID</th>\n",
       "      <th>Company</th>\n",
       "      <th>Product</th>\n",
       "      <th>TypeName</th>\n",
       "      <th>Inches</th>\n",
       "      <th>ScreenResolution</th>\n",
       "      <th>Cpu</th>\n",
       "      <th>Ram</th>\n",
       "      <th>Gpu</th>\n",
       "      <th>OpSys</th>\n",
       "      <th>Weight</th>\n",
       "      <th>Price_euros</th>\n",
       "      <th>Touchscreen</th>\n",
       "      <th>Ips</th>\n",
       "    </tr>\n",
       "  </thead>\n",
       "  <tbody>\n",
       "    <tr>\n",
       "      <th>0</th>\n",
       "      <td>1</td>\n",
       "      <td>Apple</td>\n",
       "      <td>MacBook Pro</td>\n",
       "      <td>Ultrabook</td>\n",
       "      <td>13.3</td>\n",
       "      <td>IPS Panel Retina Display 2560x1600</td>\n",
       "      <td>Intel Core i5 2.3GHz</td>\n",
       "      <td>8</td>\n",
       "      <td>Intel Iris Plus Graphics 640</td>\n",
       "      <td>macOS</td>\n",
       "      <td>1.37</td>\n",
       "      <td>1339.69</td>\n",
       "      <td>0</td>\n",
       "      <td>1</td>\n",
       "    </tr>\n",
       "    <tr>\n",
       "      <th>1</th>\n",
       "      <td>2</td>\n",
       "      <td>Apple</td>\n",
       "      <td>Macbook Air</td>\n",
       "      <td>Ultrabook</td>\n",
       "      <td>13.3</td>\n",
       "      <td>1440x900</td>\n",
       "      <td>Intel Core i5 1.8GHz</td>\n",
       "      <td>8</td>\n",
       "      <td>Intel HD Graphics 6000</td>\n",
       "      <td>macOS</td>\n",
       "      <td>1.34</td>\n",
       "      <td>898.94</td>\n",
       "      <td>0</td>\n",
       "      <td>0</td>\n",
       "    </tr>\n",
       "  </tbody>\n",
       "</table>\n",
       "</div>"
      ],
      "text/plain": [
       "   laptop_ID Company      Product   TypeName  Inches  \\\n",
       "0          1   Apple  MacBook Pro  Ultrabook    13.3   \n",
       "1          2   Apple  Macbook Air  Ultrabook    13.3   \n",
       "\n",
       "                     ScreenResolution                   Cpu  Ram  \\\n",
       "0  IPS Panel Retina Display 2560x1600  Intel Core i5 2.3GHz    8   \n",
       "1                            1440x900  Intel Core i5 1.8GHz    8   \n",
       "\n",
       "                            Gpu  OpSys  Weight  Price_euros  Touchscreen  Ips  \n",
       "0  Intel Iris Plus Graphics 640  macOS    1.37      1339.69            0    1  \n",
       "1        Intel HD Graphics 6000  macOS    1.34       898.94            0    0  "
      ]
     },
     "execution_count": 22,
     "metadata": {},
     "output_type": "execute_result"
    }
   ],
   "source": [
    "data.head(2)"
   ]
  },
  {
   "cell_type": "markdown",
   "id": "2ed531b7-4bb6-49a6-9d8a-b00517277bdd",
   "metadata": {},
   "source": [
    "## Cpu Column"
   ]
  },
  {
   "cell_type": "code",
   "execution_count": 23,
   "id": "7e59bff5-6971-433e-b964-4b38e58062d7",
   "metadata": {},
   "outputs": [
    {
     "data": {
      "text/plain": [
       "Cpu\n",
       "Intel Core i5 7200U 2.5GHz       190\n",
       "Intel Core i7 7700HQ 2.8GHz      146\n",
       "Intel Core i7 7500U 2.7GHz       134\n",
       "Intel Core i7 8550U 1.8GHz        73\n",
       "Intel Core i5 8250U 1.6GHz        72\n",
       "                                ... \n",
       "Intel Core i5 7200U 2.70GHz        1\n",
       "Intel Core M M7-6Y75 1.2GHz        1\n",
       "Intel Core M 6Y54 1.1GHz           1\n",
       "AMD E-Series 9000 2.2GHz           1\n",
       "Samsung Cortex A72&A53 2.0GHz      1\n",
       "Name: count, Length: 118, dtype: int64"
      ]
     },
     "execution_count": 23,
     "metadata": {},
     "output_type": "execute_result"
    }
   ],
   "source": [
    "data['Cpu'].value_counts()"
   ]
  },
  {
   "cell_type": "code",
   "execution_count": 24,
   "id": "3248495d-ad78-4571-afc5-0f39109f3e06",
   "metadata": {},
   "outputs": [],
   "source": [
    "data['cpu_name'] = data['Cpu'].apply(lambda x:\" \".join(x.split()[0:3]))"
   ]
  },
  {
   "cell_type": "code",
   "execution_count": 25,
   "id": "9d805b5a-02c8-409a-85e0-27526398febf",
   "metadata": {},
   "outputs": [
    {
     "data": {
      "text/plain": [
       "cpu_name\n",
       "Intel Core i7               527\n",
       "Intel Core i5               423\n",
       "Intel Core i3               136\n",
       "Intel Celeron Dual           80\n",
       "Intel Pentium Quad           27\n",
       "Intel Core M                 19\n",
       "AMD A9-Series 9420           12\n",
       "AMD A6-Series 9220            8\n",
       "Intel Celeron Quad            8\n",
       "AMD A12-Series 9720P          7\n",
       "Intel Atom x5-Z8350           5\n",
       "AMD A8-Series 7410            4\n",
       "Intel Atom x5-Z8550           4\n",
       "AMD A9-Series 9410            3\n",
       "Intel Pentium Dual            3\n",
       "AMD Ryzen 1700                3\n",
       "AMD A9-Series A9-9420         2\n",
       "AMD E-Series E2-9000e         2\n",
       "AMD A10-Series A10-9620P      2\n",
       "AMD A6-Series A6-9220         2\n",
       "AMD E-Series 7110             2\n",
       "AMD A10-Series 9620P          2\n",
       "AMD A10-Series 9600P          2\n",
       "Intel Xeon E3-1505M           2\n",
       "Intel Xeon E3-1535M           2\n",
       "Intel Atom X5-Z8350           2\n",
       "Intel Atom x5-Z8300           1\n",
       "AMD E-Series 6110             1\n",
       "AMD E-Series 9000e            1\n",
       "AMD E-Series E2-6110          1\n",
       "AMD FX 9830P                  1\n",
       "AMD Ryzen 1600                1\n",
       "Intel Atom Z8350              1\n",
       "AMD A6-Series 7310            1\n",
       "AMD E-Series E2-9000          1\n",
       "AMD A12-Series 9700P          1\n",
       "AMD FX 8800P                  1\n",
       "AMD A4-Series 7210            1\n",
       "Samsung Cortex A72&A53        1\n",
       "AMD E-Series 9000             1\n",
       "Name: count, dtype: int64"
      ]
     },
     "execution_count": 25,
     "metadata": {},
     "output_type": "execute_result"
    }
   ],
   "source": [
    "data['cpu_name'].value_counts()"
   ]
  },
  {
   "cell_type": "code",
   "execution_count": 26,
   "id": "6c0516f3-88d0-4bb0-9515-4b09f7779ebf",
   "metadata": {},
   "outputs": [],
   "source": [
    "def set_processor(name):\n",
    "    if name == 'Intel Core i7' or name == 'Intel Core i5' or name == 'Intel Core i3':\n",
    "        return name\n",
    "    else:\n",
    "        if name.split()[0] == 'AMD':\n",
    "            return 'AMD'\n",
    "        else:\n",
    "            return 'Other'"
   ]
  },
  {
   "cell_type": "code",
   "execution_count": 27,
   "id": "44772043-9928-4662-81c5-74efdd9363c1",
   "metadata": {},
   "outputs": [],
   "source": [
    "data['cpu_name'] = data['cpu_name'].apply(set_processor)"
   ]
  },
  {
   "cell_type": "code",
   "execution_count": 28,
   "id": "80a355e1-7315-495c-827f-58af96c92d2d",
   "metadata": {},
   "outputs": [
    {
     "data": {
      "text/plain": [
       "cpu_name\n",
       "Intel Core i7    527\n",
       "Intel Core i5    423\n",
       "Other            155\n",
       "Intel Core i3    136\n",
       "AMD               62\n",
       "Name: count, dtype: int64"
      ]
     },
     "execution_count": 28,
     "metadata": {},
     "output_type": "execute_result"
    }
   ],
   "source": [
    "data['cpu_name'].value_counts()"
   ]
  },
  {
   "cell_type": "markdown",
   "id": "d1813746-7271-4e5f-a508-d0e872d99471",
   "metadata": {},
   "source": [
    "## Ram Column"
   ]
  },
  {
   "cell_type": "code",
   "execution_count": 29,
   "id": "ccba734a-ee4e-4a23-a39c-7b82fd07b379",
   "metadata": {},
   "outputs": [
    {
     "data": {
      "text/plain": [
       "Ram\n",
       "8     619\n",
       "4     375\n",
       "16    200\n",
       "6      41\n",
       "12     25\n",
       "2      22\n",
       "32     17\n",
       "24      3\n",
       "64      1\n",
       "Name: count, dtype: int64"
      ]
     },
     "execution_count": 29,
     "metadata": {},
     "output_type": "execute_result"
    }
   ],
   "source": [
    "data['Ram'].value_counts()"
   ]
  },
  {
   "cell_type": "markdown",
   "id": "4bd36dc1-8c77-43a9-9977-5e2e5e981a53",
   "metadata": {},
   "source": [
    "## Gpu Column"
   ]
  },
  {
   "cell_type": "code",
   "execution_count": 30,
   "id": "d37835fd-7f05-4bec-bc2c-d60fe41d3024",
   "metadata": {},
   "outputs": [
    {
     "data": {
      "text/plain": [
       "Gpu\n",
       "Intel HD Graphics 620      281\n",
       "Intel HD Graphics 520      185\n",
       "Intel UHD Graphics 620      68\n",
       "Nvidia GeForce GTX 1050     66\n",
       "Nvidia GeForce GTX 1060     48\n",
       "                          ... \n",
       "Nvidia Quadro M500M          1\n",
       "AMD Radeon R7 M360           1\n",
       "Nvidia Quadro M3000M         1\n",
       "Nvidia GeForce 960M          1\n",
       "ARM Mali T860 MP4            1\n",
       "Name: count, Length: 110, dtype: int64"
      ]
     },
     "execution_count": 30,
     "metadata": {},
     "output_type": "execute_result"
    }
   ],
   "source": [
    "data['Gpu'].value_counts()"
   ]
  },
  {
   "cell_type": "code",
   "execution_count": 31,
   "id": "570c781e-c248-43f7-bc5a-a3dedc854d0b",
   "metadata": {},
   "outputs": [],
   "source": [
    "data['gpu_name'] = data['Gpu'].apply(lambda x:\" \".join(x.split()[0:1]))"
   ]
  },
  {
   "cell_type": "code",
   "execution_count": 32,
   "id": "44b6e507-acd6-484e-af23-b2bce6dd64e5",
   "metadata": {},
   "outputs": [
    {
     "data": {
      "text/plain": [
       "gpu_name\n",
       "Intel     722\n",
       "Nvidia    400\n",
       "AMD       180\n",
       "ARM         1\n",
       "Name: count, dtype: int64"
      ]
     },
     "execution_count": 32,
     "metadata": {},
     "output_type": "execute_result"
    }
   ],
   "source": [
    "data['gpu_name'].value_counts()"
   ]
  },
  {
   "cell_type": "code",
   "execution_count": 33,
   "id": "4a0abde0-5ef2-45e9-a060-777919faaf8a",
   "metadata": {},
   "outputs": [
    {
     "data": {
      "text/plain": [
       "(1303, 16)"
      ]
     },
     "execution_count": 33,
     "metadata": {},
     "output_type": "execute_result"
    }
   ],
   "source": [
    "data.shape"
   ]
  },
  {
   "cell_type": "code",
   "execution_count": 34,
   "id": "64a4a806-f167-4854-9ce0-1f20772c1600",
   "metadata": {},
   "outputs": [],
   "source": [
    "data = data[data['gpu_name'] != 'ARM']"
   ]
  },
  {
   "cell_type": "code",
   "execution_count": 35,
   "id": "5c224eb8-e4eb-4d6f-997e-12eb886c4350",
   "metadata": {},
   "outputs": [
    {
     "data": {
      "text/plain": [
       "(1302, 16)"
      ]
     },
     "execution_count": 35,
     "metadata": {},
     "output_type": "execute_result"
    }
   ],
   "source": [
    "data.shape"
   ]
  },
  {
   "cell_type": "code",
   "execution_count": 36,
   "id": "bc52364b-708d-48d3-9cc2-dceb2fb92937",
   "metadata": {},
   "outputs": [
    {
     "data": {
      "text/html": [
       "<div>\n",
       "<style scoped>\n",
       "    .dataframe tbody tr th:only-of-type {\n",
       "        vertical-align: middle;\n",
       "    }\n",
       "\n",
       "    .dataframe tbody tr th {\n",
       "        vertical-align: top;\n",
       "    }\n",
       "\n",
       "    .dataframe thead th {\n",
       "        text-align: right;\n",
       "    }\n",
       "</style>\n",
       "<table border=\"1\" class=\"dataframe\">\n",
       "  <thead>\n",
       "    <tr style=\"text-align: right;\">\n",
       "      <th></th>\n",
       "      <th>laptop_ID</th>\n",
       "      <th>Company</th>\n",
       "      <th>Product</th>\n",
       "      <th>TypeName</th>\n",
       "      <th>Inches</th>\n",
       "      <th>ScreenResolution</th>\n",
       "      <th>Cpu</th>\n",
       "      <th>Ram</th>\n",
       "      <th>Gpu</th>\n",
       "      <th>OpSys</th>\n",
       "      <th>Weight</th>\n",
       "      <th>Price_euros</th>\n",
       "      <th>Touchscreen</th>\n",
       "      <th>Ips</th>\n",
       "      <th>cpu_name</th>\n",
       "      <th>gpu_name</th>\n",
       "    </tr>\n",
       "  </thead>\n",
       "  <tbody>\n",
       "    <tr>\n",
       "      <th>0</th>\n",
       "      <td>1</td>\n",
       "      <td>Apple</td>\n",
       "      <td>MacBook Pro</td>\n",
       "      <td>Ultrabook</td>\n",
       "      <td>13.3</td>\n",
       "      <td>IPS Panel Retina Display 2560x1600</td>\n",
       "      <td>Intel Core i5 2.3GHz</td>\n",
       "      <td>8</td>\n",
       "      <td>Intel Iris Plus Graphics 640</td>\n",
       "      <td>macOS</td>\n",
       "      <td>1.37</td>\n",
       "      <td>1339.69</td>\n",
       "      <td>0</td>\n",
       "      <td>1</td>\n",
       "      <td>Intel Core i5</td>\n",
       "      <td>Intel</td>\n",
       "    </tr>\n",
       "    <tr>\n",
       "      <th>1</th>\n",
       "      <td>2</td>\n",
       "      <td>Apple</td>\n",
       "      <td>Macbook Air</td>\n",
       "      <td>Ultrabook</td>\n",
       "      <td>13.3</td>\n",
       "      <td>1440x900</td>\n",
       "      <td>Intel Core i5 1.8GHz</td>\n",
       "      <td>8</td>\n",
       "      <td>Intel HD Graphics 6000</td>\n",
       "      <td>macOS</td>\n",
       "      <td>1.34</td>\n",
       "      <td>898.94</td>\n",
       "      <td>0</td>\n",
       "      <td>0</td>\n",
       "      <td>Intel Core i5</td>\n",
       "      <td>Intel</td>\n",
       "    </tr>\n",
       "  </tbody>\n",
       "</table>\n",
       "</div>"
      ],
      "text/plain": [
       "   laptop_ID Company      Product   TypeName  Inches  \\\n",
       "0          1   Apple  MacBook Pro  Ultrabook    13.3   \n",
       "1          2   Apple  Macbook Air  Ultrabook    13.3   \n",
       "\n",
       "                     ScreenResolution                   Cpu  Ram  \\\n",
       "0  IPS Panel Retina Display 2560x1600  Intel Core i5 2.3GHz    8   \n",
       "1                            1440x900  Intel Core i5 1.8GHz    8   \n",
       "\n",
       "                            Gpu  OpSys  Weight  Price_euros  Touchscreen  Ips  \\\n",
       "0  Intel Iris Plus Graphics 640  macOS    1.37      1339.69            0    1   \n",
       "1        Intel HD Graphics 6000  macOS    1.34       898.94            0    0   \n",
       "\n",
       "        cpu_name gpu_name  \n",
       "0  Intel Core i5    Intel  \n",
       "1  Intel Core i5    Intel  "
      ]
     },
     "execution_count": 36,
     "metadata": {},
     "output_type": "execute_result"
    }
   ],
   "source": [
    "data.head(2)"
   ]
  },
  {
   "cell_type": "markdown",
   "id": "9f4a8c89-2f11-44cd-8502-177992481b2f",
   "metadata": {},
   "source": [
    "## OpSys Column"
   ]
  },
  {
   "cell_type": "code",
   "execution_count": 37,
   "id": "583c916f-8ae1-405f-87a8-e82169bd61e6",
   "metadata": {},
   "outputs": [
    {
     "data": {
      "text/plain": [
       "OpSys\n",
       "Windows 10      1072\n",
       "No OS             66\n",
       "Linux             62\n",
       "Windows 7         45\n",
       "Chrome OS         26\n",
       "macOS             13\n",
       "Mac OS X           8\n",
       "Windows 10 S       8\n",
       "Android            2\n",
       "Name: count, dtype: int64"
      ]
     },
     "execution_count": 37,
     "metadata": {},
     "output_type": "execute_result"
    }
   ],
   "source": [
    "data['OpSys'].value_counts()"
   ]
  },
  {
   "cell_type": "code",
   "execution_count": 38,
   "id": "39a31b2c-a155-4c58-af0c-e945305716c6",
   "metadata": {},
   "outputs": [],
   "source": [
    "def set_os(inpt):\n",
    "    if inpt == 'Windows 10' or inpt == 'Windows 7' or inpt == 'Windows 10 S':\n",
    "        return 'Windows'\n",
    "    elif inpt == 'macOS' or inpt == 'Mac OS X':\n",
    "        return 'Mac'\n",
    "    elif inpt == 'Linux':\n",
    "        return inpt\n",
    "    else:\n",
    "        return 'Other'"
   ]
  },
  {
   "cell_type": "code",
   "execution_count": 39,
   "id": "c62fec4d-ab98-421b-a00d-7baaf1711297",
   "metadata": {},
   "outputs": [
    {
     "name": "stderr",
     "output_type": "stream",
     "text": [
      "C:\\Users\\Nishadi\\AppData\\Local\\Temp\\ipykernel_58304\\3013695878.py:1: SettingWithCopyWarning: \n",
      "A value is trying to be set on a copy of a slice from a DataFrame.\n",
      "Try using .loc[row_indexer,col_indexer] = value instead\n",
      "\n",
      "See the caveats in the documentation: https://pandas.pydata.org/pandas-docs/stable/user_guide/indexing.html#returning-a-view-versus-a-copy\n",
      "  data['OpSys'] = data['OpSys'].apply(set_os)\n"
     ]
    }
   ],
   "source": [
    "data['OpSys'] = data['OpSys'].apply(set_os)"
   ]
  },
  {
   "cell_type": "code",
   "execution_count": 40,
   "id": "bc008c2c-29ec-4d2a-a799-6d2a106c99ed",
   "metadata": {},
   "outputs": [
    {
     "data": {
      "text/plain": [
       "OpSys\n",
       "Windows    1125\n",
       "Other        94\n",
       "Linux        62\n",
       "Mac          21\n",
       "Name: count, dtype: int64"
      ]
     },
     "execution_count": 40,
     "metadata": {},
     "output_type": "execute_result"
    }
   ],
   "source": [
    "data['OpSys'].value_counts()"
   ]
  },
  {
   "cell_type": "code",
   "execution_count": 41,
   "id": "45426985-60ec-45d8-a456-68704dc0c99a",
   "metadata": {},
   "outputs": [
    {
     "data": {
      "text/html": [
       "<div>\n",
       "<style scoped>\n",
       "    .dataframe tbody tr th:only-of-type {\n",
       "        vertical-align: middle;\n",
       "    }\n",
       "\n",
       "    .dataframe tbody tr th {\n",
       "        vertical-align: top;\n",
       "    }\n",
       "\n",
       "    .dataframe thead th {\n",
       "        text-align: right;\n",
       "    }\n",
       "</style>\n",
       "<table border=\"1\" class=\"dataframe\">\n",
       "  <thead>\n",
       "    <tr style=\"text-align: right;\">\n",
       "      <th></th>\n",
       "      <th>laptop_ID</th>\n",
       "      <th>Company</th>\n",
       "      <th>Product</th>\n",
       "      <th>TypeName</th>\n",
       "      <th>Inches</th>\n",
       "      <th>ScreenResolution</th>\n",
       "      <th>Cpu</th>\n",
       "      <th>Ram</th>\n",
       "      <th>Gpu</th>\n",
       "      <th>OpSys</th>\n",
       "      <th>Weight</th>\n",
       "      <th>Price_euros</th>\n",
       "      <th>Touchscreen</th>\n",
       "      <th>Ips</th>\n",
       "      <th>cpu_name</th>\n",
       "      <th>gpu_name</th>\n",
       "    </tr>\n",
       "  </thead>\n",
       "  <tbody>\n",
       "    <tr>\n",
       "      <th>0</th>\n",
       "      <td>1</td>\n",
       "      <td>Apple</td>\n",
       "      <td>MacBook Pro</td>\n",
       "      <td>Ultrabook</td>\n",
       "      <td>13.3</td>\n",
       "      <td>IPS Panel Retina Display 2560x1600</td>\n",
       "      <td>Intel Core i5 2.3GHz</td>\n",
       "      <td>8</td>\n",
       "      <td>Intel Iris Plus Graphics 640</td>\n",
       "      <td>Mac</td>\n",
       "      <td>1.37</td>\n",
       "      <td>1339.69</td>\n",
       "      <td>0</td>\n",
       "      <td>1</td>\n",
       "      <td>Intel Core i5</td>\n",
       "      <td>Intel</td>\n",
       "    </tr>\n",
       "    <tr>\n",
       "      <th>1</th>\n",
       "      <td>2</td>\n",
       "      <td>Apple</td>\n",
       "      <td>Macbook Air</td>\n",
       "      <td>Ultrabook</td>\n",
       "      <td>13.3</td>\n",
       "      <td>1440x900</td>\n",
       "      <td>Intel Core i5 1.8GHz</td>\n",
       "      <td>8</td>\n",
       "      <td>Intel HD Graphics 6000</td>\n",
       "      <td>Mac</td>\n",
       "      <td>1.34</td>\n",
       "      <td>898.94</td>\n",
       "      <td>0</td>\n",
       "      <td>0</td>\n",
       "      <td>Intel Core i5</td>\n",
       "      <td>Intel</td>\n",
       "    </tr>\n",
       "  </tbody>\n",
       "</table>\n",
       "</div>"
      ],
      "text/plain": [
       "   laptop_ID Company      Product   TypeName  Inches  \\\n",
       "0          1   Apple  MacBook Pro  Ultrabook    13.3   \n",
       "1          2   Apple  Macbook Air  Ultrabook    13.3   \n",
       "\n",
       "                     ScreenResolution                   Cpu  Ram  \\\n",
       "0  IPS Panel Retina Display 2560x1600  Intel Core i5 2.3GHz    8   \n",
       "1                            1440x900  Intel Core i5 1.8GHz    8   \n",
       "\n",
       "                            Gpu OpSys  Weight  Price_euros  Touchscreen  Ips  \\\n",
       "0  Intel Iris Plus Graphics 640   Mac    1.37      1339.69            0    1   \n",
       "1        Intel HD Graphics 6000   Mac    1.34       898.94            0    0   \n",
       "\n",
       "        cpu_name gpu_name  \n",
       "0  Intel Core i5    Intel  \n",
       "1  Intel Core i5    Intel  "
      ]
     },
     "execution_count": 41,
     "metadata": {},
     "output_type": "execute_result"
    }
   ],
   "source": [
    "data.head(2)"
   ]
  },
  {
   "cell_type": "markdown",
   "id": "bf1a4e22-c665-46fb-b509-8ec36bd129b9",
   "metadata": {},
   "source": [
    "## Drop unnecessary columns"
   ]
  },
  {
   "cell_type": "code",
   "execution_count": 42,
   "id": "0d3f46a2-aa5d-4b3f-a4e9-47f4b8b3dbba",
   "metadata": {},
   "outputs": [],
   "source": [
    "data = data.drop(columns=['laptop_ID', 'Inches', 'Product', 'ScreenResolution', 'Cpu', 'Gpu'])"
   ]
  },
  {
   "cell_type": "code",
   "execution_count": 43,
   "id": "96e4d939-30e7-409c-b233-a073f734ffaf",
   "metadata": {},
   "outputs": [
    {
     "data": {
      "text/html": [
       "<div>\n",
       "<style scoped>\n",
       "    .dataframe tbody tr th:only-of-type {\n",
       "        vertical-align: middle;\n",
       "    }\n",
       "\n",
       "    .dataframe tbody tr th {\n",
       "        vertical-align: top;\n",
       "    }\n",
       "\n",
       "    .dataframe thead th {\n",
       "        text-align: right;\n",
       "    }\n",
       "</style>\n",
       "<table border=\"1\" class=\"dataframe\">\n",
       "  <thead>\n",
       "    <tr style=\"text-align: right;\">\n",
       "      <th></th>\n",
       "      <th>Company</th>\n",
       "      <th>TypeName</th>\n",
       "      <th>Ram</th>\n",
       "      <th>OpSys</th>\n",
       "      <th>Weight</th>\n",
       "      <th>Price_euros</th>\n",
       "      <th>Touchscreen</th>\n",
       "      <th>Ips</th>\n",
       "      <th>cpu_name</th>\n",
       "      <th>gpu_name</th>\n",
       "    </tr>\n",
       "  </thead>\n",
       "  <tbody>\n",
       "    <tr>\n",
       "      <th>0</th>\n",
       "      <td>Apple</td>\n",
       "      <td>Ultrabook</td>\n",
       "      <td>8</td>\n",
       "      <td>Mac</td>\n",
       "      <td>1.37</td>\n",
       "      <td>1339.69</td>\n",
       "      <td>0</td>\n",
       "      <td>1</td>\n",
       "      <td>Intel Core i5</td>\n",
       "      <td>Intel</td>\n",
       "    </tr>\n",
       "    <tr>\n",
       "      <th>1</th>\n",
       "      <td>Apple</td>\n",
       "      <td>Ultrabook</td>\n",
       "      <td>8</td>\n",
       "      <td>Mac</td>\n",
       "      <td>1.34</td>\n",
       "      <td>898.94</td>\n",
       "      <td>0</td>\n",
       "      <td>0</td>\n",
       "      <td>Intel Core i5</td>\n",
       "      <td>Intel</td>\n",
       "    </tr>\n",
       "    <tr>\n",
       "      <th>2</th>\n",
       "      <td>HP</td>\n",
       "      <td>Notebook</td>\n",
       "      <td>8</td>\n",
       "      <td>Other</td>\n",
       "      <td>1.86</td>\n",
       "      <td>575.00</td>\n",
       "      <td>0</td>\n",
       "      <td>0</td>\n",
       "      <td>Intel Core i5</td>\n",
       "      <td>Intel</td>\n",
       "    </tr>\n",
       "    <tr>\n",
       "      <th>3</th>\n",
       "      <td>Apple</td>\n",
       "      <td>Ultrabook</td>\n",
       "      <td>16</td>\n",
       "      <td>Mac</td>\n",
       "      <td>1.83</td>\n",
       "      <td>2537.45</td>\n",
       "      <td>0</td>\n",
       "      <td>1</td>\n",
       "      <td>Intel Core i7</td>\n",
       "      <td>AMD</td>\n",
       "    </tr>\n",
       "    <tr>\n",
       "      <th>4</th>\n",
       "      <td>Apple</td>\n",
       "      <td>Ultrabook</td>\n",
       "      <td>8</td>\n",
       "      <td>Mac</td>\n",
       "      <td>1.37</td>\n",
       "      <td>1803.60</td>\n",
       "      <td>0</td>\n",
       "      <td>1</td>\n",
       "      <td>Intel Core i5</td>\n",
       "      <td>Intel</td>\n",
       "    </tr>\n",
       "  </tbody>\n",
       "</table>\n",
       "</div>"
      ],
      "text/plain": [
       "  Company   TypeName  Ram  OpSys  Weight  Price_euros  Touchscreen  Ips  \\\n",
       "0   Apple  Ultrabook    8    Mac    1.37      1339.69            0    1   \n",
       "1   Apple  Ultrabook    8    Mac    1.34       898.94            0    0   \n",
       "2      HP   Notebook    8  Other    1.86       575.00            0    0   \n",
       "3   Apple  Ultrabook   16    Mac    1.83      2537.45            0    1   \n",
       "4   Apple  Ultrabook    8    Mac    1.37      1803.60            0    1   \n",
       "\n",
       "        cpu_name gpu_name  \n",
       "0  Intel Core i5    Intel  \n",
       "1  Intel Core i5    Intel  \n",
       "2  Intel Core i5    Intel  \n",
       "3  Intel Core i7      AMD  \n",
       "4  Intel Core i5    Intel  "
      ]
     },
     "execution_count": 43,
     "metadata": {},
     "output_type": "execute_result"
    }
   ],
   "source": [
    "data.head()"
   ]
  },
  {
   "cell_type": "markdown",
   "id": "69406785-7274-439a-abc9-36e27de8b13c",
   "metadata": {},
   "source": [
    "## One-Hot Encoding"
   ]
  },
  {
   "cell_type": "code",
   "execution_count": 44,
   "id": "3935891d-436e-406c-bca2-5cca0688dc1e",
   "metadata": {},
   "outputs": [],
   "source": [
    "df = pd.get_dummies(data)"
   ]
  },
  {
   "cell_type": "code",
   "execution_count": 45,
   "id": "084e2dfb-affc-4f67-8949-b68085909c07",
   "metadata": {},
   "outputs": [
    {
     "data": {
      "text/html": [
       "<div>\n",
       "<style scoped>\n",
       "    .dataframe tbody tr th:only-of-type {\n",
       "        vertical-align: middle;\n",
       "    }\n",
       "\n",
       "    .dataframe tbody tr th {\n",
       "        vertical-align: top;\n",
       "    }\n",
       "\n",
       "    .dataframe thead th {\n",
       "        text-align: right;\n",
       "    }\n",
       "</style>\n",
       "<table border=\"1\" class=\"dataframe\">\n",
       "  <thead>\n",
       "    <tr style=\"text-align: right;\">\n",
       "      <th></th>\n",
       "      <th>Ram</th>\n",
       "      <th>Weight</th>\n",
       "      <th>Price_euros</th>\n",
       "      <th>Touchscreen</th>\n",
       "      <th>Ips</th>\n",
       "      <th>Company_Acer</th>\n",
       "      <th>Company_Apple</th>\n",
       "      <th>Company_Asus</th>\n",
       "      <th>Company_Dell</th>\n",
       "      <th>Company_HP</th>\n",
       "      <th>...</th>\n",
       "      <th>OpSys_Other</th>\n",
       "      <th>OpSys_Windows</th>\n",
       "      <th>cpu_name_AMD</th>\n",
       "      <th>cpu_name_Intel Core i3</th>\n",
       "      <th>cpu_name_Intel Core i5</th>\n",
       "      <th>cpu_name_Intel Core i7</th>\n",
       "      <th>cpu_name_Other</th>\n",
       "      <th>gpu_name_AMD</th>\n",
       "      <th>gpu_name_Intel</th>\n",
       "      <th>gpu_name_Nvidia</th>\n",
       "    </tr>\n",
       "  </thead>\n",
       "  <tbody>\n",
       "    <tr>\n",
       "      <th>0</th>\n",
       "      <td>8</td>\n",
       "      <td>1.37</td>\n",
       "      <td>1339.69</td>\n",
       "      <td>0</td>\n",
       "      <td>1</td>\n",
       "      <td>False</td>\n",
       "      <td>True</td>\n",
       "      <td>False</td>\n",
       "      <td>False</td>\n",
       "      <td>False</td>\n",
       "      <td>...</td>\n",
       "      <td>False</td>\n",
       "      <td>False</td>\n",
       "      <td>False</td>\n",
       "      <td>False</td>\n",
       "      <td>True</td>\n",
       "      <td>False</td>\n",
       "      <td>False</td>\n",
       "      <td>False</td>\n",
       "      <td>True</td>\n",
       "      <td>False</td>\n",
       "    </tr>\n",
       "    <tr>\n",
       "      <th>1</th>\n",
       "      <td>8</td>\n",
       "      <td>1.34</td>\n",
       "      <td>898.94</td>\n",
       "      <td>0</td>\n",
       "      <td>0</td>\n",
       "      <td>False</td>\n",
       "      <td>True</td>\n",
       "      <td>False</td>\n",
       "      <td>False</td>\n",
       "      <td>False</td>\n",
       "      <td>...</td>\n",
       "      <td>False</td>\n",
       "      <td>False</td>\n",
       "      <td>False</td>\n",
       "      <td>False</td>\n",
       "      <td>True</td>\n",
       "      <td>False</td>\n",
       "      <td>False</td>\n",
       "      <td>False</td>\n",
       "      <td>True</td>\n",
       "      <td>False</td>\n",
       "    </tr>\n",
       "  </tbody>\n",
       "</table>\n",
       "<p>2 rows × 32 columns</p>\n",
       "</div>"
      ],
      "text/plain": [
       "   Ram  Weight  Price_euros  Touchscreen  Ips  Company_Acer  Company_Apple  \\\n",
       "0    8    1.37      1339.69            0    1         False           True   \n",
       "1    8    1.34       898.94            0    0         False           True   \n",
       "\n",
       "   Company_Asus  Company_Dell  Company_HP  ...  OpSys_Other  OpSys_Windows  \\\n",
       "0         False         False       False  ...        False          False   \n",
       "1         False         False       False  ...        False          False   \n",
       "\n",
       "   cpu_name_AMD  cpu_name_Intel Core i3  cpu_name_Intel Core i5  \\\n",
       "0         False                   False                    True   \n",
       "1         False                   False                    True   \n",
       "\n",
       "   cpu_name_Intel Core i7  cpu_name_Other  gpu_name_AMD  gpu_name_Intel  \\\n",
       "0                   False           False         False            True   \n",
       "1                   False           False         False            True   \n",
       "\n",
       "   gpu_name_Nvidia  \n",
       "0            False  \n",
       "1            False  \n",
       "\n",
       "[2 rows x 32 columns]"
      ]
     },
     "execution_count": 45,
     "metadata": {},
     "output_type": "execute_result"
    }
   ],
   "source": [
    "df.head(2)"
   ]
  },
  {
   "cell_type": "code",
   "execution_count": 46,
   "id": "b9cfcdfc-1a60-4840-94b8-2434d4abf3ad",
   "metadata": {},
   "outputs": [
    {
     "data": {
      "text/plain": [
       "(1302, 32)"
      ]
     },
     "execution_count": 46,
     "metadata": {},
     "output_type": "execute_result"
    }
   ],
   "source": [
    "df.shape"
   ]
  },
  {
   "cell_type": "markdown",
   "id": "f8e54d7d-e6e0-42d7-8eef-5f14bc233932",
   "metadata": {},
   "source": [
    "# Model Building and Selection"
   ]
  },
  {
   "cell_type": "code",
   "execution_count": 50,
   "id": "3d0ce24d-4803-4da9-8aec-3dfa6e4c989f",
   "metadata": {},
   "outputs": [],
   "source": [
    "X = df.drop('Price_euros', axis=1)\n",
    "y = df['Price_euros']"
   ]
  },
  {
   "cell_type": "code",
   "execution_count": 53,
   "id": "c5879f2b-a300-4a54-a4ab-7e1828f7be6e",
   "metadata": {},
   "outputs": [
    {
     "name": "stdout",
     "output_type": "stream",
     "text": [
      "Collecting scikit-learn\n",
      "  Obtaining dependency information for scikit-learn from https://files.pythonhosted.org/packages/cb/be/dec2a8d31d133034a8ec51ae68ac564ec9bde1c78a64551f1438c3690b9e/scikit_learn-1.5.1-cp312-cp312-win_amd64.whl.metadata\n",
      "  Downloading scikit_learn-1.5.1-cp312-cp312-win_amd64.whl.metadata (12 kB)\n",
      "Requirement already satisfied: numpy>=1.19.5 in c:\\users\\nishadi\\desktop\\laptop-price-predictor\\model building\\env\\lib\\site-packages (from scikit-learn) (2.0.0)\n",
      "Collecting scipy>=1.6.0 (from scikit-learn)\n",
      "  Obtaining dependency information for scipy>=1.6.0 from https://files.pythonhosted.org/packages/3f/72/305686527c68f33f1dd3ebdd28f53340d372b2f9e44dccaf6f92e17739d3/scipy-1.14.0-cp312-cp312-win_amd64.whl.metadata\n",
      "  Downloading scipy-1.14.0-cp312-cp312-win_amd64.whl.metadata (60 kB)\n",
      "     ---------------------------------------- 0.0/60.8 kB ? eta -:--:--\n",
      "     ------ --------------------------------- 10.2/60.8 kB ? eta -:--:--\n",
      "     ------ --------------------------------- 10.2/60.8 kB ? eta -:--:--\n",
      "     ------------------- ------------------ 30.7/60.8 kB 262.6 kB/s eta 0:00:01\n",
      "     ------------------- ------------------ 30.7/60.8 kB 262.6 kB/s eta 0:00:01\n",
      "     -------------------------------- ----- 51.2/60.8 kB 201.8 kB/s eta 0:00:01\n",
      "     -------------------------------------- 60.8/60.8 kB 230.7 kB/s eta 0:00:00\n",
      "Collecting joblib>=1.2.0 (from scikit-learn)\n",
      "  Obtaining dependency information for joblib>=1.2.0 from https://files.pythonhosted.org/packages/91/29/df4b9b42f2be0b623cbd5e2140cafcaa2bef0759a00b7b70104dcfe2fb51/joblib-1.4.2-py3-none-any.whl.metadata\n",
      "  Downloading joblib-1.4.2-py3-none-any.whl.metadata (5.4 kB)\n",
      "Collecting threadpoolctl>=3.1.0 (from scikit-learn)\n",
      "  Obtaining dependency information for threadpoolctl>=3.1.0 from https://files.pythonhosted.org/packages/4b/2c/ffbf7a134b9ab11a67b0cf0726453cedd9c5043a4fe7a35d1cefa9a1bcfb/threadpoolctl-3.5.0-py3-none-any.whl.metadata\n",
      "  Downloading threadpoolctl-3.5.0-py3-none-any.whl.metadata (13 kB)\n",
      "Downloading scikit_learn-1.5.1-cp312-cp312-win_amd64.whl (10.9 MB)\n",
      "   ---------------------------------------- 0.0/10.9 MB ? eta -:--:--\n",
      "   ---------------------------------------- 0.0/10.9 MB 1.9 MB/s eta 0:00:06\n",
      "   ---------------------------------------- 0.1/10.9 MB 1.5 MB/s eta 0:00:08\n",
      "   ---------------------------------------- 0.1/10.9 MB 1.1 MB/s eta 0:00:11\n",
      "   ---------------------------------------- 0.1/10.9 MB 656.4 kB/s eta 0:00:17\n",
      "    --------------------------------------- 0.2/10.9 MB 807.1 kB/s eta 0:00:14\n",
      "    --------------------------------------- 0.2/10.9 MB 915.1 kB/s eta 0:00:12\n",
      "    --------------------------------------- 0.2/10.9 MB 915.1 kB/s eta 0:00:12\n",
      "   - -------------------------------------- 0.3/10.9 MB 803.7 kB/s eta 0:00:14\n",
      "   - -------------------------------------- 0.4/10.9 MB 1.1 MB/s eta 0:00:10\n",
      "   - -------------------------------------- 0.5/10.9 MB 1.2 MB/s eta 0:00:09\n",
      "   - -------------------------------------- 0.5/10.9 MB 1.1 MB/s eta 0:00:10\n",
      "   -- ------------------------------------- 0.6/10.9 MB 1.2 MB/s eta 0:00:09\n",
      "   -- ------------------------------------- 0.7/10.9 MB 1.3 MB/s eta 0:00:08\n",
      "   --- ------------------------------------ 0.9/10.9 MB 1.4 MB/s eta 0:00:08\n",
      "   --- ------------------------------------ 1.1/10.9 MB 1.6 MB/s eta 0:00:07\n",
      "   ---- ----------------------------------- 1.1/10.9 MB 1.6 MB/s eta 0:00:07\n",
      "   ---- ----------------------------------- 1.3/10.9 MB 1.6 MB/s eta 0:00:06\n",
      "   ----- ---------------------------------- 1.4/10.9 MB 1.7 MB/s eta 0:00:06\n",
      "   ----- ---------------------------------- 1.5/10.9 MB 1.7 MB/s eta 0:00:06\n",
      "   ----- ---------------------------------- 1.6/10.9 MB 1.7 MB/s eta 0:00:06\n",
      "   ------ --------------------------------- 1.7/10.9 MB 1.8 MB/s eta 0:00:06\n",
      "   ------ --------------------------------- 1.8/10.9 MB 1.8 MB/s eta 0:00:05\n",
      "   ------ --------------------------------- 1.9/10.9 MB 1.8 MB/s eta 0:00:06\n",
      "   ------- -------------------------------- 1.9/10.9 MB 1.8 MB/s eta 0:00:06\n",
      "   ------- -------------------------------- 2.0/10.9 MB 1.7 MB/s eta 0:00:06\n",
      "   ------- -------------------------------- 2.2/10.9 MB 1.8 MB/s eta 0:00:05\n",
      "   -------- ------------------------------- 2.3/10.9 MB 1.8 MB/s eta 0:00:05\n",
      "   -------- ------------------------------- 2.4/10.9 MB 1.8 MB/s eta 0:00:05\n",
      "   -------- ------------------------------- 2.4/10.9 MB 1.8 MB/s eta 0:00:05\n",
      "   --------- ------------------------------ 2.5/10.9 MB 1.8 MB/s eta 0:00:05\n",
      "   --------- ------------------------------ 2.7/10.9 MB 1.9 MB/s eta 0:00:05\n",
      "   --------- ------------------------------ 2.7/10.9 MB 1.9 MB/s eta 0:00:05\n",
      "   ---------- ----------------------------- 2.8/10.9 MB 1.9 MB/s eta 0:00:05\n",
      "   ---------- ----------------------------- 2.9/10.9 MB 1.9 MB/s eta 0:00:05\n",
      "   ----------- ---------------------------- 3.0/10.9 MB 1.9 MB/s eta 0:00:05\n",
      "   ----------- ---------------------------- 3.2/10.9 MB 1.9 MB/s eta 0:00:05\n",
      "   ------------ --------------------------- 3.3/10.9 MB 1.9 MB/s eta 0:00:04\n",
      "   ------------ --------------------------- 3.4/10.9 MB 1.9 MB/s eta 0:00:04\n",
      "   ------------ --------------------------- 3.5/10.9 MB 1.9 MB/s eta 0:00:04\n",
      "   ------------- -------------------------- 3.6/10.9 MB 1.9 MB/s eta 0:00:04\n",
      "   ------------- -------------------------- 3.8/10.9 MB 2.0 MB/s eta 0:00:04\n",
      "   -------------- ------------------------- 3.9/10.9 MB 2.0 MB/s eta 0:00:04\n",
      "   -------------- ------------------------- 4.1/10.9 MB 2.0 MB/s eta 0:00:04\n",
      "   --------------- ------------------------ 4.2/10.9 MB 2.1 MB/s eta 0:00:04\n",
      "   --------------- ------------------------ 4.4/10.9 MB 2.1 MB/s eta 0:00:04\n",
      "   ---------------- ----------------------- 4.6/10.9 MB 2.1 MB/s eta 0:00:03\n",
      "   ----------------- ---------------------- 4.7/10.9 MB 2.2 MB/s eta 0:00:03\n",
      "   ----------------- ---------------------- 4.9/10.9 MB 2.2 MB/s eta 0:00:03\n",
      "   ------------------ --------------------- 5.0/10.9 MB 2.2 MB/s eta 0:00:03\n",
      "   ------------------ --------------------- 5.1/10.9 MB 2.2 MB/s eta 0:00:03\n",
      "   ------------------ --------------------- 5.2/10.9 MB 2.2 MB/s eta 0:00:03\n",
      "   ------------------- -------------------- 5.2/10.9 MB 2.2 MB/s eta 0:00:03\n",
      "   ------------------- -------------------- 5.3/10.9 MB 2.1 MB/s eta 0:00:03\n",
      "   ------------------- -------------------- 5.3/10.9 MB 2.1 MB/s eta 0:00:03\n",
      "   ------------------- -------------------- 5.4/10.9 MB 2.1 MB/s eta 0:00:03\n",
      "   -------------------- ------------------- 5.5/10.9 MB 2.1 MB/s eta 0:00:03\n",
      "   -------------------- ------------------- 5.6/10.9 MB 2.1 MB/s eta 0:00:03\n",
      "   -------------------- ------------------- 5.6/10.9 MB 2.1 MB/s eta 0:00:03\n",
      "   --------------------- ------------------ 5.8/10.9 MB 2.1 MB/s eta 0:00:03\n",
      "   --------------------- ------------------ 5.9/10.9 MB 2.1 MB/s eta 0:00:03\n",
      "   --------------------- ------------------ 6.0/10.9 MB 2.1 MB/s eta 0:00:03\n",
      "   --------------------- ------------------ 6.0/10.9 MB 2.1 MB/s eta 0:00:03\n",
      "   --------------------- ------------------ 6.0/10.9 MB 2.1 MB/s eta 0:00:03\n",
      "   ---------------------- ----------------- 6.0/10.9 MB 2.0 MB/s eta 0:00:03\n",
      "   ---------------------- ----------------- 6.2/10.9 MB 2.0 MB/s eta 0:00:03\n",
      "   ---------------------- ----------------- 6.2/10.9 MB 2.0 MB/s eta 0:00:03\n",
      "   ---------------------- ----------------- 6.3/10.9 MB 2.0 MB/s eta 0:00:03\n",
      "   ----------------------- ---------------- 6.4/10.9 MB 2.0 MB/s eta 0:00:03\n",
      "   ----------------------- ---------------- 6.6/10.9 MB 2.0 MB/s eta 0:00:03\n",
      "   ------------------------ --------------- 6.6/10.9 MB 2.0 MB/s eta 0:00:03\n",
      "   ------------------------ --------------- 6.6/10.9 MB 2.0 MB/s eta 0:00:03\n",
      "   ------------------------ --------------- 6.6/10.9 MB 2.0 MB/s eta 0:00:03\n",
      "   ------------------------ --------------- 6.8/10.9 MB 2.0 MB/s eta 0:00:03\n",
      "   ------------------------- -------------- 6.9/10.9 MB 2.0 MB/s eta 0:00:03\n",
      "   ------------------------- -------------- 7.1/10.9 MB 2.0 MB/s eta 0:00:02\n",
      "   -------------------------- ------------- 7.2/10.9 MB 2.0 MB/s eta 0:00:02\n",
      "   -------------------------- ------------- 7.4/10.9 MB 2.1 MB/s eta 0:00:02\n",
      "   --------------------------- ------------ 7.4/10.9 MB 2.1 MB/s eta 0:00:02\n",
      "   --------------------------- ------------ 7.5/10.9 MB 2.1 MB/s eta 0:00:02\n",
      "   --------------------------- ------------ 7.6/10.9 MB 2.0 MB/s eta 0:00:02\n",
      "   ---------------------------- ----------- 7.8/10.9 MB 2.1 MB/s eta 0:00:02\n",
      "   ---------------------------- ----------- 7.9/10.9 MB 2.1 MB/s eta 0:00:02\n",
      "   ----------------------------- ---------- 8.1/10.9 MB 2.1 MB/s eta 0:00:02\n",
      "   ------------------------------ --------- 8.3/10.9 MB 2.1 MB/s eta 0:00:02\n",
      "   ------------------------------ --------- 8.3/10.9 MB 2.1 MB/s eta 0:00:02\n",
      "   ------------------------------ --------- 8.4/10.9 MB 2.1 MB/s eta 0:00:02\n",
      "   ------------------------------- -------- 8.5/10.9 MB 2.1 MB/s eta 0:00:02\n",
      "   ------------------------------- -------- 8.6/10.9 MB 2.1 MB/s eta 0:00:02\n",
      "   -------------------------------- ------- 8.8/10.9 MB 2.1 MB/s eta 0:00:02\n",
      "   -------------------------------- ------- 8.9/10.9 MB 2.1 MB/s eta 0:00:01\n",
      "   -------------------------------- ------- 9.0/10.9 MB 2.1 MB/s eta 0:00:01\n",
      "   --------------------------------- ------ 9.1/10.9 MB 2.1 MB/s eta 0:00:01\n",
      "   --------------------------------- ------ 9.2/10.9 MB 2.1 MB/s eta 0:00:01\n",
      "   --------------------------------- ------ 9.2/10.9 MB 2.1 MB/s eta 0:00:01\n",
      "   ---------------------------------- ----- 9.3/10.9 MB 2.1 MB/s eta 0:00:01\n",
      "   ---------------------------------- ----- 9.3/10.9 MB 2.1 MB/s eta 0:00:01\n",
      "   ---------------------------------- ----- 9.5/10.9 MB 2.1 MB/s eta 0:00:01\n",
      "   ---------------------------------- ----- 9.6/10.9 MB 2.1 MB/s eta 0:00:01\n",
      "   ----------------------------------- ---- 9.7/10.9 MB 2.1 MB/s eta 0:00:01\n",
      "   ----------------------------------- ---- 9.8/10.9 MB 2.1 MB/s eta 0:00:01\n",
      "   ------------------------------------ --- 10.0/10.9 MB 2.1 MB/s eta 0:00:01\n",
      "   ------------------------------------- -- 10.2/10.9 MB 2.1 MB/s eta 0:00:01\n",
      "   ------------------------------------- -- 10.3/10.9 MB 2.1 MB/s eta 0:00:01\n",
      "   -------------------------------------- - 10.4/10.9 MB 2.2 MB/s eta 0:00:01\n",
      "   -------------------------------------- - 10.6/10.9 MB 2.3 MB/s eta 0:00:01\n",
      "   ---------------------------------------  10.8/10.9 MB 2.3 MB/s eta 0:00:01\n",
      "   ---------------------------------------  10.9/10.9 MB 2.3 MB/s eta 0:00:01\n",
      "   ---------------------------------------  10.9/10.9 MB 2.3 MB/s eta 0:00:01\n",
      "   ---------------------------------------  10.9/10.9 MB 2.3 MB/s eta 0:00:01\n",
      "   ---------------------------------------  10.9/10.9 MB 2.3 MB/s eta 0:00:01\n",
      "   ---------------------------------------- 10.9/10.9 MB 2.2 MB/s eta 0:00:00\n",
      "Downloading joblib-1.4.2-py3-none-any.whl (301 kB)\n",
      "   ---------------------------------------- 0.0/301.8 kB ? eta -:--:--\n",
      "   ------------ --------------------------- 92.2/301.8 kB 5.5 MB/s eta 0:00:01\n",
      "   --------------------- ------------------ 163.8/301.8 kB 3.3 MB/s eta 0:00:01\n",
      "   ---------------------------------------  297.0/301.8 kB 2.6 MB/s eta 0:00:01\n",
      "   ---------------------------------------- 301.8/301.8 kB 2.3 MB/s eta 0:00:00\n",
      "Downloading scipy-1.14.0-cp312-cp312-win_amd64.whl (44.5 MB)\n",
      "   ---------------------------------------- 0.0/44.5 MB ? eta -:--:--\n",
      "   ---------------------------------------- 0.1/44.5 MB 2.3 MB/s eta 0:00:20\n",
      "   ---------------------------------------- 0.1/44.5 MB 1.3 MB/s eta 0:00:35\n",
      "   ---------------------------------------- 0.2/44.5 MB 1.3 MB/s eta 0:00:34\n",
      "   ---------------------------------------- 0.2/44.5 MB 1.3 MB/s eta 0:00:36\n",
      "   ---------------------------------------- 0.3/44.5 MB 1.4 MB/s eta 0:00:33\n",
      "   ---------------------------------------- 0.4/44.5 MB 1.6 MB/s eta 0:00:28\n",
      "    --------------------------------------- 0.6/44.5 MB 1.8 MB/s eta 0:00:25\n",
      "    --------------------------------------- 0.6/44.5 MB 1.8 MB/s eta 0:00:25\n",
      "    --------------------------------------- 0.8/44.5 MB 1.9 MB/s eta 0:00:24\n",
      "    --------------------------------------- 0.9/44.5 MB 2.0 MB/s eta 0:00:22\n",
      "    --------------------------------------- 1.0/44.5 MB 2.0 MB/s eta 0:00:22\n",
      "    --------------------------------------- 1.0/44.5 MB 1.9 MB/s eta 0:00:23\n",
      "   - -------------------------------------- 1.2/44.5 MB 2.0 MB/s eta 0:00:22\n",
      "   - -------------------------------------- 1.3/44.5 MB 2.1 MB/s eta 0:00:21\n",
      "   - -------------------------------------- 1.5/44.5 MB 2.1 MB/s eta 0:00:21\n",
      "   - -------------------------------------- 1.6/44.5 MB 2.2 MB/s eta 0:00:20\n",
      "   - -------------------------------------- 1.8/44.5 MB 2.3 MB/s eta 0:00:19\n",
      "   - -------------------------------------- 2.0/44.5 MB 2.3 MB/s eta 0:00:19\n",
      "   - -------------------------------------- 2.1/44.5 MB 2.4 MB/s eta 0:00:19\n",
      "   - -------------------------------------- 2.2/44.5 MB 2.4 MB/s eta 0:00:18\n",
      "   -- ------------------------------------- 2.3/44.5 MB 2.4 MB/s eta 0:00:18\n",
      "   -- ------------------------------------- 2.4/44.5 MB 2.4 MB/s eta 0:00:18\n",
      "   -- ------------------------------------- 2.5/44.5 MB 2.4 MB/s eta 0:00:18\n",
      "   -- ------------------------------------- 2.5/44.5 MB 2.3 MB/s eta 0:00:19\n",
      "   -- ------------------------------------- 2.7/44.5 MB 2.3 MB/s eta 0:00:19\n",
      "   -- ------------------------------------- 2.8/44.5 MB 2.4 MB/s eta 0:00:18\n",
      "   -- ------------------------------------- 2.9/44.5 MB 2.4 MB/s eta 0:00:18\n",
      "   -- ------------------------------------- 3.0/44.5 MB 2.3 MB/s eta 0:00:19\n",
      "   -- ------------------------------------- 3.1/44.5 MB 2.3 MB/s eta 0:00:18\n",
      "   -- ------------------------------------- 3.2/44.5 MB 2.3 MB/s eta 0:00:19\n",
      "   -- ------------------------------------- 3.3/44.5 MB 2.3 MB/s eta 0:00:18\n",
      "   --- ------------------------------------ 3.5/44.5 MB 2.3 MB/s eta 0:00:18\n",
      "   --- ------------------------------------ 3.6/44.5 MB 2.4 MB/s eta 0:00:18\n",
      "   --- ------------------------------------ 3.7/44.5 MB 2.4 MB/s eta 0:00:18\n",
      "   --- ------------------------------------ 3.8/44.5 MB 2.3 MB/s eta 0:00:18\n",
      "   --- ------------------------------------ 3.9/44.5 MB 2.4 MB/s eta 0:00:18\n",
      "   --- ------------------------------------ 4.1/44.5 MB 2.4 MB/s eta 0:00:17\n",
      "   --- ------------------------------------ 4.3/44.5 MB 2.5 MB/s eta 0:00:17\n",
      "   ---- ----------------------------------- 4.5/44.5 MB 2.5 MB/s eta 0:00:17\n",
      "   ---- ----------------------------------- 4.6/44.5 MB 2.5 MB/s eta 0:00:16\n",
      "   ---- ----------------------------------- 4.7/44.5 MB 2.5 MB/s eta 0:00:17\n",
      "   ---- ----------------------------------- 4.8/44.5 MB 2.4 MB/s eta 0:00:17\n",
      "   ---- ----------------------------------- 4.9/44.5 MB 2.5 MB/s eta 0:00:17\n",
      "   ---- ----------------------------------- 5.1/44.5 MB 2.5 MB/s eta 0:00:16\n",
      "   ---- ----------------------------------- 5.2/44.5 MB 2.5 MB/s eta 0:00:16\n",
      "   ---- ----------------------------------- 5.3/44.5 MB 2.5 MB/s eta 0:00:16\n",
      "   ---- ----------------------------------- 5.4/44.5 MB 2.5 MB/s eta 0:00:16\n",
      "   ---- ----------------------------------- 5.5/44.5 MB 2.5 MB/s eta 0:00:16\n",
      "   ----- ---------------------------------- 5.6/44.5 MB 2.5 MB/s eta 0:00:16\n",
      "   ----- ---------------------------------- 5.7/44.5 MB 2.4 MB/s eta 0:00:16\n",
      "   ----- ---------------------------------- 5.8/44.5 MB 2.4 MB/s eta 0:00:16\n",
      "   ----- ---------------------------------- 5.9/44.5 MB 2.4 MB/s eta 0:00:16\n",
      "   ----- ---------------------------------- 6.0/44.5 MB 2.4 MB/s eta 0:00:16\n",
      "   ----- ---------------------------------- 6.1/44.5 MB 2.5 MB/s eta 0:00:16\n",
      "   ----- ---------------------------------- 6.3/44.5 MB 2.5 MB/s eta 0:00:16\n",
      "   ----- ---------------------------------- 6.4/44.5 MB 2.5 MB/s eta 0:00:16\n",
      "   ----- ---------------------------------- 6.5/44.5 MB 2.5 MB/s eta 0:00:16\n",
      "   ----- ---------------------------------- 6.6/44.5 MB 2.4 MB/s eta 0:00:16\n",
      "   ------ --------------------------------- 6.7/44.5 MB 2.4 MB/s eta 0:00:16\n",
      "   ------ --------------------------------- 6.8/44.5 MB 2.5 MB/s eta 0:00:16\n",
      "   ------ --------------------------------- 6.9/44.5 MB 2.4 MB/s eta 0:00:16\n",
      "   ------ --------------------------------- 7.0/44.5 MB 2.4 MB/s eta 0:00:16\n",
      "   ------ --------------------------------- 7.2/44.5 MB 2.5 MB/s eta 0:00:16\n",
      "   ------ --------------------------------- 7.2/44.5 MB 2.4 MB/s eta 0:00:16\n",
      "   ------ --------------------------------- 7.3/44.5 MB 2.4 MB/s eta 0:00:16\n",
      "   ------ --------------------------------- 7.4/44.5 MB 2.4 MB/s eta 0:00:16\n",
      "   ------ --------------------------------- 7.5/44.5 MB 2.4 MB/s eta 0:00:16\n",
      "   ------ --------------------------------- 7.5/44.5 MB 2.4 MB/s eta 0:00:16\n",
      "   ------ --------------------------------- 7.5/44.5 MB 2.4 MB/s eta 0:00:16\n",
      "   ------ --------------------------------- 7.7/44.5 MB 2.4 MB/s eta 0:00:16\n",
      "   ------ --------------------------------- 7.8/44.5 MB 2.4 MB/s eta 0:00:16\n",
      "   ------- -------------------------------- 7.8/44.5 MB 2.3 MB/s eta 0:00:16\n",
      "   ------- -------------------------------- 7.9/44.5 MB 2.3 MB/s eta 0:00:16\n",
      "   ------- -------------------------------- 7.9/44.5 MB 2.3 MB/s eta 0:00:16\n",
      "   ------- -------------------------------- 7.9/44.5 MB 2.3 MB/s eta 0:00:17\n",
      "   ------- -------------------------------- 8.0/44.5 MB 2.3 MB/s eta 0:00:17\n",
      "   ------- -------------------------------- 8.2/44.5 MB 2.3 MB/s eta 0:00:16\n",
      "   ------- -------------------------------- 8.4/44.5 MB 2.3 MB/s eta 0:00:16\n",
      "   ------- -------------------------------- 8.5/44.5 MB 2.3 MB/s eta 0:00:16\n",
      "   ------- -------------------------------- 8.6/44.5 MB 2.3 MB/s eta 0:00:16\n",
      "   ------- -------------------------------- 8.7/44.5 MB 2.3 MB/s eta 0:00:16\n",
      "   ------- -------------------------------- 8.8/44.5 MB 2.3 MB/s eta 0:00:16\n",
      "   -------- ------------------------------- 9.0/44.5 MB 2.3 MB/s eta 0:00:16\n",
      "   -------- ------------------------------- 9.1/44.5 MB 2.3 MB/s eta 0:00:16\n",
      "   -------- ------------------------------- 9.2/44.5 MB 2.3 MB/s eta 0:00:16\n",
      "   -------- ------------------------------- 9.3/44.5 MB 2.3 MB/s eta 0:00:16\n",
      "   -------- ------------------------------- 9.4/44.5 MB 2.3 MB/s eta 0:00:16\n",
      "   -------- ------------------------------- 9.5/44.5 MB 2.3 MB/s eta 0:00:16\n",
      "   -------- ------------------------------- 9.6/44.5 MB 2.3 MB/s eta 0:00:16\n",
      "   -------- ------------------------------- 9.8/44.5 MB 2.3 MB/s eta 0:00:15\n",
      "   -------- ------------------------------- 9.9/44.5 MB 2.3 MB/s eta 0:00:15\n",
      "   --------- ------------------------------ 10.0/44.5 MB 2.3 MB/s eta 0:00:15\n",
      "   --------- ------------------------------ 10.2/44.5 MB 2.4 MB/s eta 0:00:15\n",
      "   --------- ------------------------------ 10.3/44.5 MB 2.4 MB/s eta 0:00:15\n",
      "   --------- ------------------------------ 10.5/44.5 MB 2.4 MB/s eta 0:00:15\n",
      "   --------- ------------------------------ 10.6/44.5 MB 2.4 MB/s eta 0:00:14\n",
      "   --------- ------------------------------ 10.8/44.5 MB 2.4 MB/s eta 0:00:14\n",
      "   --------- ------------------------------ 10.9/44.5 MB 2.5 MB/s eta 0:00:14\n",
      "   --------- ------------------------------ 11.1/44.5 MB 2.5 MB/s eta 0:00:14\n",
      "   ---------- ----------------------------- 11.2/44.5 MB 2.5 MB/s eta 0:00:14\n",
      "   ---------- ----------------------------- 11.3/44.5 MB 2.5 MB/s eta 0:00:14\n",
      "   ---------- ----------------------------- 11.3/44.5 MB 2.4 MB/s eta 0:00:14\n",
      "   ---------- ----------------------------- 11.5/44.5 MB 2.4 MB/s eta 0:00:14\n",
      "   ---------- ----------------------------- 11.6/44.5 MB 2.4 MB/s eta 0:00:14\n",
      "   ---------- ----------------------------- 11.8/44.5 MB 2.4 MB/s eta 0:00:14\n",
      "   ---------- ----------------------------- 11.9/44.5 MB 2.4 MB/s eta 0:00:14\n",
      "   ---------- ----------------------------- 12.0/44.5 MB 2.4 MB/s eta 0:00:14\n",
      "   ---------- ----------------------------- 12.0/44.5 MB 2.4 MB/s eta 0:00:14\n",
      "   ---------- ----------------------------- 12.2/44.5 MB 2.4 MB/s eta 0:00:14\n",
      "   ----------- ---------------------------- 12.3/44.5 MB 2.4 MB/s eta 0:00:14\n",
      "   ----------- ---------------------------- 12.5/44.5 MB 2.4 MB/s eta 0:00:14\n",
      "   ----------- ---------------------------- 12.5/44.5 MB 2.4 MB/s eta 0:00:14\n",
      "   ----------- ---------------------------- 12.7/44.5 MB 2.4 MB/s eta 0:00:14\n",
      "   ----------- ---------------------------- 12.8/44.5 MB 2.5 MB/s eta 0:00:13\n",
      "   ----------- ---------------------------- 12.9/44.5 MB 2.4 MB/s eta 0:00:13\n",
      "   ----------- ---------------------------- 13.0/44.5 MB 2.4 MB/s eta 0:00:14\n",
      "   ----------- ---------------------------- 13.1/44.5 MB 2.4 MB/s eta 0:00:14\n",
      "   ----------- ---------------------------- 13.3/44.5 MB 2.4 MB/s eta 0:00:13\n",
      "   ------------ --------------------------- 13.4/44.5 MB 2.5 MB/s eta 0:00:13\n",
      "   ------------ --------------------------- 13.6/44.5 MB 2.5 MB/s eta 0:00:13\n",
      "   ------------ --------------------------- 13.7/44.5 MB 2.5 MB/s eta 0:00:13\n",
      "   ------------ --------------------------- 13.9/44.5 MB 2.5 MB/s eta 0:00:13\n",
      "   ------------ --------------------------- 14.0/44.5 MB 2.5 MB/s eta 0:00:13\n",
      "   ------------ --------------------------- 14.2/44.5 MB 2.5 MB/s eta 0:00:13\n",
      "   ------------ --------------------------- 14.3/44.5 MB 2.5 MB/s eta 0:00:13\n",
      "   ------------ --------------------------- 14.4/44.5 MB 2.5 MB/s eta 0:00:13\n",
      "   ------------- -------------------------- 14.5/44.5 MB 2.5 MB/s eta 0:00:13\n",
      "   ------------- -------------------------- 14.6/44.5 MB 2.4 MB/s eta 0:00:13\n",
      "   ------------- -------------------------- 14.8/44.5 MB 2.5 MB/s eta 0:00:13\n",
      "   ------------- -------------------------- 15.0/44.5 MB 2.5 MB/s eta 0:00:12\n",
      "   ------------- -------------------------- 15.2/44.5 MB 2.5 MB/s eta 0:00:12\n",
      "   ------------- -------------------------- 15.2/44.5 MB 2.5 MB/s eta 0:00:12\n",
      "   ------------- -------------------------- 15.2/44.5 MB 2.5 MB/s eta 0:00:12\n",
      "   ------------- -------------------------- 15.2/44.5 MB 2.5 MB/s eta 0:00:12\n",
      "   ------------- -------------------------- 15.3/44.5 MB 2.4 MB/s eta 0:00:13\n",
      "   ------------- -------------------------- 15.3/44.5 MB 2.4 MB/s eta 0:00:13\n",
      "   ------------- -------------------------- 15.5/44.5 MB 2.4 MB/s eta 0:00:13\n",
      "   -------------- ------------------------- 15.6/44.5 MB 2.4 MB/s eta 0:00:12\n",
      "   -------------- ------------------------- 15.8/44.5 MB 2.4 MB/s eta 0:00:12\n",
      "   -------------- ------------------------- 16.0/44.5 MB 2.5 MB/s eta 0:00:12\n",
      "   -------------- ------------------------- 16.1/44.5 MB 2.5 MB/s eta 0:00:12\n",
      "   -------------- ------------------------- 16.2/44.5 MB 2.5 MB/s eta 0:00:12\n",
      "   -------------- ------------------------- 16.4/44.5 MB 2.5 MB/s eta 0:00:12\n",
      "   -------------- ------------------------- 16.5/44.5 MB 2.5 MB/s eta 0:00:12\n",
      "   --------------- ------------------------ 16.7/44.5 MB 2.5 MB/s eta 0:00:12\n",
      "   --------------- ------------------------ 16.8/44.5 MB 2.5 MB/s eta 0:00:12\n",
      "   --------------- ------------------------ 16.9/44.5 MB 2.5 MB/s eta 0:00:12\n",
      "   --------------- ------------------------ 17.1/44.5 MB 2.5 MB/s eta 0:00:12\n",
      "   --------------- ------------------------ 17.2/44.5 MB 2.5 MB/s eta 0:00:11\n",
      "   --------------- ------------------------ 17.3/44.5 MB 2.5 MB/s eta 0:00:11\n",
      "   --------------- ------------------------ 17.5/44.5 MB 2.5 MB/s eta 0:00:11\n",
      "   --------------- ------------------------ 17.6/44.5 MB 2.6 MB/s eta 0:00:11\n",
      "   --------------- ------------------------ 17.8/44.5 MB 2.6 MB/s eta 0:00:11\n",
      "   ---------------- ----------------------- 18.0/44.5 MB 2.6 MB/s eta 0:00:11\n",
      "   ---------------- ----------------------- 18.1/44.5 MB 2.8 MB/s eta 0:00:10\n",
      "   ---------------- ----------------------- 18.3/44.5 MB 2.7 MB/s eta 0:00:10\n",
      "   ---------------- ----------------------- 18.4/44.5 MB 2.7 MB/s eta 0:00:10\n",
      "   ---------------- ----------------------- 18.5/44.5 MB 2.7 MB/s eta 0:00:10\n",
      "   ---------------- ----------------------- 18.7/44.5 MB 2.7 MB/s eta 0:00:10\n",
      "   ---------------- ----------------------- 18.9/44.5 MB 2.8 MB/s eta 0:00:10\n",
      "   ----------------- ---------------------- 19.0/44.5 MB 2.7 MB/s eta 0:00:10\n",
      "   ----------------- ---------------------- 19.1/44.5 MB 2.8 MB/s eta 0:00:10\n",
      "   ----------------- ---------------------- 19.3/44.5 MB 2.8 MB/s eta 0:00:10\n",
      "   ----------------- ---------------------- 19.4/44.5 MB 2.8 MB/s eta 0:00:09\n",
      "   ----------------- ---------------------- 19.6/44.5 MB 2.8 MB/s eta 0:00:09\n",
      "   ----------------- ---------------------- 19.7/44.5 MB 2.8 MB/s eta 0:00:09\n",
      "   ----------------- ---------------------- 19.9/44.5 MB 2.8 MB/s eta 0:00:09\n",
      "   ------------------ --------------------- 20.0/44.5 MB 2.8 MB/s eta 0:00:09\n",
      "   ------------------ --------------------- 20.2/44.5 MB 2.8 MB/s eta 0:00:09\n",
      "   ------------------ --------------------- 20.3/44.5 MB 2.8 MB/s eta 0:00:09\n",
      "   ------------------ --------------------- 20.5/44.5 MB 2.8 MB/s eta 0:00:09\n",
      "   ------------------ --------------------- 20.6/44.5 MB 2.8 MB/s eta 0:00:09\n",
      "   ------------------ --------------------- 20.8/44.5 MB 2.8 MB/s eta 0:00:09\n",
      "   ------------------ --------------------- 20.9/44.5 MB 2.8 MB/s eta 0:00:09\n",
      "   ------------------ --------------------- 21.1/44.5 MB 2.8 MB/s eta 0:00:09\n",
      "   ------------------- -------------------- 21.2/44.5 MB 2.8 MB/s eta 0:00:09\n",
      "   ------------------- -------------------- 21.3/44.5 MB 2.8 MB/s eta 0:00:09\n",
      "   ------------------- -------------------- 21.5/44.5 MB 2.8 MB/s eta 0:00:09\n",
      "   ------------------- -------------------- 21.7/44.5 MB 2.9 MB/s eta 0:00:08\n",
      "   ------------------- -------------------- 21.8/44.5 MB 2.9 MB/s eta 0:00:08\n",
      "   ------------------- -------------------- 22.0/44.5 MB 2.9 MB/s eta 0:00:08\n",
      "   ------------------- -------------------- 22.1/44.5 MB 2.9 MB/s eta 0:00:08\n",
      "   -------------------- ------------------- 22.3/44.5 MB 2.9 MB/s eta 0:00:08\n",
      "   -------------------- ------------------- 22.4/44.5 MB 2.9 MB/s eta 0:00:08\n",
      "   -------------------- ------------------- 22.5/44.5 MB 2.9 MB/s eta 0:00:08\n",
      "   -------------------- ------------------- 22.7/44.5 MB 2.9 MB/s eta 0:00:08\n",
      "   -------------------- ------------------- 22.9/44.5 MB 3.0 MB/s eta 0:00:08\n",
      "   -------------------- ------------------- 23.0/44.5 MB 2.9 MB/s eta 0:00:08\n",
      "   -------------------- ------------------- 23.1/44.5 MB 2.9 MB/s eta 0:00:08\n",
      "   -------------------- ------------------- 23.2/44.5 MB 3.0 MB/s eta 0:00:08\n",
      "   --------------------- ------------------ 23.4/44.5 MB 3.0 MB/s eta 0:00:08\n",
      "   --------------------- ------------------ 23.5/44.5 MB 3.0 MB/s eta 0:00:08\n",
      "   --------------------- ------------------ 23.7/44.5 MB 3.0 MB/s eta 0:00:07\n",
      "   --------------------- ------------------ 23.8/44.5 MB 3.0 MB/s eta 0:00:07\n",
      "   --------------------- ------------------ 24.0/44.5 MB 3.0 MB/s eta 0:00:07\n",
      "   --------------------- ------------------ 24.1/44.5 MB 3.0 MB/s eta 0:00:07\n",
      "   --------------------- ------------------ 24.3/44.5 MB 3.0 MB/s eta 0:00:07\n",
      "   --------------------- ------------------ 24.4/44.5 MB 3.0 MB/s eta 0:00:07\n",
      "   ---------------------- ----------------- 24.6/44.5 MB 3.0 MB/s eta 0:00:07\n",
      "   ---------------------- ----------------- 24.7/44.5 MB 3.0 MB/s eta 0:00:07\n",
      "   ---------------------- ----------------- 24.9/44.5 MB 3.0 MB/s eta 0:00:07\n",
      "   ---------------------- ----------------- 25.0/44.5 MB 3.0 MB/s eta 0:00:07\n",
      "   ---------------------- ----------------- 25.2/44.5 MB 3.0 MB/s eta 0:00:07\n",
      "   ---------------------- ----------------- 25.4/44.5 MB 3.0 MB/s eta 0:00:07\n",
      "   ----------------------- ---------------- 25.6/44.5 MB 3.2 MB/s eta 0:00:06\n",
      "   ----------------------- ---------------- 25.8/44.5 MB 3.2 MB/s eta 0:00:06\n",
      "   ----------------------- ---------------- 26.0/44.5 MB 3.2 MB/s eta 0:00:06\n",
      "   ----------------------- ---------------- 26.1/44.5 MB 3.2 MB/s eta 0:00:06\n",
      "   ----------------------- ---------------- 26.2/44.5 MB 3.2 MB/s eta 0:00:06\n",
      "   ----------------------- ---------------- 26.3/44.5 MB 3.2 MB/s eta 0:00:06\n",
      "   ----------------------- ---------------- 26.5/44.5 MB 3.2 MB/s eta 0:00:06\n",
      "   ----------------------- ---------------- 26.6/44.5 MB 3.2 MB/s eta 0:00:06\n",
      "   ------------------------ --------------- 26.8/44.5 MB 3.2 MB/s eta 0:00:06\n",
      "   ------------------------ --------------- 27.0/44.5 MB 3.2 MB/s eta 0:00:06\n",
      "   ------------------------ --------------- 27.1/44.5 MB 3.2 MB/s eta 0:00:06\n",
      "   ------------------------ --------------- 27.4/44.5 MB 3.2 MB/s eta 0:00:06\n",
      "   ------------------------ --------------- 27.5/44.5 MB 3.3 MB/s eta 0:00:06\n",
      "   ------------------------ --------------- 27.6/44.5 MB 3.2 MB/s eta 0:00:06\n",
      "   ------------------------ --------------- 27.7/44.5 MB 3.2 MB/s eta 0:00:06\n",
      "   ------------------------- -------------- 27.8/44.5 MB 3.2 MB/s eta 0:00:06\n",
      "   ------------------------- -------------- 27.9/44.5 MB 3.2 MB/s eta 0:00:06\n",
      "   ------------------------- -------------- 28.0/44.5 MB 3.2 MB/s eta 0:00:06\n",
      "   ------------------------- -------------- 28.1/44.5 MB 3.2 MB/s eta 0:00:06\n",
      "   ------------------------- -------------- 28.3/44.5 MB 3.1 MB/s eta 0:00:06\n",
      "   ------------------------- -------------- 28.4/44.5 MB 3.1 MB/s eta 0:00:06\n",
      "   ------------------------- -------------- 28.5/44.5 MB 3.2 MB/s eta 0:00:06\n",
      "   ------------------------- -------------- 28.7/44.5 MB 3.2 MB/s eta 0:00:05\n",
      "   ------------------------- -------------- 28.9/44.5 MB 3.2 MB/s eta 0:00:05\n",
      "   -------------------------- ------------- 29.1/44.5 MB 3.2 MB/s eta 0:00:05\n",
      "   -------------------------- ------------- 29.2/44.5 MB 3.2 MB/s eta 0:00:05\n",
      "   -------------------------- ------------- 29.4/44.5 MB 3.2 MB/s eta 0:00:05\n",
      "   -------------------------- ------------- 29.5/44.5 MB 3.2 MB/s eta 0:00:05\n",
      "   -------------------------- ------------- 29.6/44.5 MB 3.2 MB/s eta 0:00:05\n",
      "   -------------------------- ------------- 29.7/44.5 MB 3.2 MB/s eta 0:00:05\n",
      "   -------------------------- ------------- 29.8/44.5 MB 3.1 MB/s eta 0:00:05\n",
      "   -------------------------- ------------- 29.9/44.5 MB 3.1 MB/s eta 0:00:05\n",
      "   -------------------------- ------------- 29.9/44.5 MB 3.1 MB/s eta 0:00:05\n",
      "   -------------------------- ------------- 30.0/44.5 MB 3.1 MB/s eta 0:00:05\n",
      "   --------------------------- ------------ 30.1/44.5 MB 3.0 MB/s eta 0:00:05\n",
      "   --------------------------- ------------ 30.3/44.5 MB 3.1 MB/s eta 0:00:05\n",
      "   --------------------------- ------------ 30.5/44.5 MB 3.1 MB/s eta 0:00:05\n",
      "   --------------------------- ------------ 30.6/44.5 MB 3.1 MB/s eta 0:00:05\n",
      "   --------------------------- ------------ 30.8/44.5 MB 3.1 MB/s eta 0:00:05\n",
      "   --------------------------- ------------ 30.9/44.5 MB 3.1 MB/s eta 0:00:05\n",
      "   --------------------------- ------------ 31.0/44.5 MB 3.1 MB/s eta 0:00:05\n",
      "   ---------------------------- ----------- 31.2/44.5 MB 3.1 MB/s eta 0:00:05\n",
      "   ---------------------------- ----------- 31.4/44.5 MB 3.1 MB/s eta 0:00:05\n",
      "   ---------------------------- ----------- 31.5/44.5 MB 3.1 MB/s eta 0:00:05\n",
      "   ---------------------------- ----------- 31.6/44.5 MB 3.1 MB/s eta 0:00:05\n",
      "   ---------------------------- ----------- 31.8/44.5 MB 3.1 MB/s eta 0:00:05\n",
      "   ---------------------------- ----------- 31.9/44.5 MB 3.1 MB/s eta 0:00:05\n",
      "   ---------------------------- ----------- 32.1/44.5 MB 3.1 MB/s eta 0:00:05\n",
      "   ----------------------------- ---------- 32.3/44.5 MB 3.1 MB/s eta 0:00:04\n",
      "   ----------------------------- ---------- 32.4/44.5 MB 3.1 MB/s eta 0:00:04\n",
      "   ----------------------------- ---------- 32.6/44.5 MB 3.1 MB/s eta 0:00:04\n",
      "   ----------------------------- ---------- 32.7/44.5 MB 3.1 MB/s eta 0:00:04\n",
      "   ----------------------------- ---------- 32.7/44.5 MB 3.1 MB/s eta 0:00:04\n",
      "   ----------------------------- ---------- 32.7/44.5 MB 3.1 MB/s eta 0:00:04\n",
      "   ----------------------------- ---------- 32.7/44.5 MB 3.1 MB/s eta 0:00:04\n",
      "   ----------------------------- ---------- 32.7/44.5 MB 2.9 MB/s eta 0:00:05\n",
      "   ----------------------------- ---------- 32.8/44.5 MB 2.9 MB/s eta 0:00:05\n",
      "   ----------------------------- ---------- 32.9/44.5 MB 2.9 MB/s eta 0:00:05\n",
      "   ----------------------------- ---------- 33.0/44.5 MB 2.9 MB/s eta 0:00:05\n",
      "   ----------------------------- ---------- 33.2/44.5 MB 2.9 MB/s eta 0:00:04\n",
      "   ----------------------------- ---------- 33.3/44.5 MB 2.9 MB/s eta 0:00:04\n",
      "   ------------------------------ --------- 33.5/44.5 MB 2.9 MB/s eta 0:00:04\n",
      "   ------------------------------ --------- 33.6/44.5 MB 2.9 MB/s eta 0:00:04\n",
      "   ------------------------------ --------- 33.7/44.5 MB 2.9 MB/s eta 0:00:04\n",
      "   ------------------------------ --------- 33.8/44.5 MB 2.9 MB/s eta 0:00:04\n",
      "   ------------------------------ --------- 33.9/44.5 MB 2.9 MB/s eta 0:00:04\n",
      "   ------------------------------ --------- 34.1/44.5 MB 2.9 MB/s eta 0:00:04\n",
      "   ------------------------------ --------- 34.2/44.5 MB 2.8 MB/s eta 0:00:04\n",
      "   ------------------------------ --------- 34.4/44.5 MB 2.9 MB/s eta 0:00:04\n",
      "   ------------------------------- -------- 34.5/44.5 MB 2.8 MB/s eta 0:00:04\n",
      "   ------------------------------- -------- 34.7/44.5 MB 2.9 MB/s eta 0:00:04\n",
      "   ------------------------------- -------- 34.9/44.5 MB 2.9 MB/s eta 0:00:04\n",
      "   ------------------------------- -------- 35.0/44.5 MB 2.9 MB/s eta 0:00:04\n",
      "   ------------------------------- -------- 35.2/44.5 MB 2.9 MB/s eta 0:00:04\n",
      "   ------------------------------- -------- 35.3/44.5 MB 2.8 MB/s eta 0:00:04\n",
      "   ------------------------------- -------- 35.4/44.5 MB 2.8 MB/s eta 0:00:04\n",
      "   ------------------------------- -------- 35.5/44.5 MB 2.8 MB/s eta 0:00:04\n",
      "   -------------------------------- ------- 35.6/44.5 MB 2.8 MB/s eta 0:00:04\n",
      "   -------------------------------- ------- 35.8/44.5 MB 2.8 MB/s eta 0:00:04\n",
      "   -------------------------------- ------- 35.9/44.5 MB 2.8 MB/s eta 0:00:04\n",
      "   -------------------------------- ------- 36.1/44.5 MB 2.8 MB/s eta 0:00:04\n",
      "   -------------------------------- ------- 36.2/44.5 MB 2.8 MB/s eta 0:00:03\n",
      "   -------------------------------- ------- 36.4/44.5 MB 2.8 MB/s eta 0:00:03\n",
      "   -------------------------------- ------- 36.5/44.5 MB 2.8 MB/s eta 0:00:03\n",
      "   -------------------------------- ------- 36.6/44.5 MB 2.8 MB/s eta 0:00:03\n",
      "   --------------------------------- ------ 36.8/44.5 MB 2.8 MB/s eta 0:00:03\n",
      "   --------------------------------- ------ 36.9/44.5 MB 2.8 MB/s eta 0:00:03\n",
      "   --------------------------------- ------ 37.0/44.5 MB 2.8 MB/s eta 0:00:03\n",
      "   --------------------------------- ------ 37.2/44.5 MB 2.8 MB/s eta 0:00:03\n",
      "   --------------------------------- ------ 37.3/44.5 MB 2.8 MB/s eta 0:00:03\n",
      "   --------------------------------- ------ 37.4/44.5 MB 2.8 MB/s eta 0:00:03\n",
      "   --------------------------------- ------ 37.6/44.5 MB 2.7 MB/s eta 0:00:03\n",
      "   --------------------------------- ------ 37.7/44.5 MB 2.7 MB/s eta 0:00:03\n",
      "   ---------------------------------- ----- 37.9/44.5 MB 2.7 MB/s eta 0:00:03\n",
      "   ---------------------------------- ----- 38.0/44.5 MB 2.7 MB/s eta 0:00:03\n",
      "   ---------------------------------- ----- 38.2/44.5 MB 2.8 MB/s eta 0:00:03\n",
      "   ---------------------------------- ----- 38.4/44.5 MB 2.8 MB/s eta 0:00:03\n",
      "   ---------------------------------- ----- 38.5/44.5 MB 2.8 MB/s eta 0:00:03\n",
      "   ---------------------------------- ----- 38.7/44.5 MB 2.8 MB/s eta 0:00:03\n",
      "   ---------------------------------- ----- 38.7/44.5 MB 2.8 MB/s eta 0:00:03\n",
      "   ---------------------------------- ----- 38.7/44.5 MB 2.8 MB/s eta 0:00:03\n",
      "   ---------------------------------- ----- 38.7/44.5 MB 2.8 MB/s eta 0:00:03\n",
      "   ---------------------------------- ----- 38.8/44.5 MB 2.7 MB/s eta 0:00:03\n",
      "   ---------------------------------- ----- 38.9/44.5 MB 2.7 MB/s eta 0:00:03\n",
      "   ----------------------------------- ---- 39.0/44.5 MB 2.7 MB/s eta 0:00:03\n",
      "   ----------------------------------- ---- 39.2/44.5 MB 2.7 MB/s eta 0:00:02\n",
      "   ----------------------------------- ---- 39.4/44.5 MB 2.7 MB/s eta 0:00:02\n",
      "   ----------------------------------- ---- 39.5/44.5 MB 2.7 MB/s eta 0:00:02\n",
      "   ----------------------------------- ---- 39.7/44.5 MB 2.7 MB/s eta 0:00:02\n",
      "   ----------------------------------- ---- 39.8/44.5 MB 2.7 MB/s eta 0:00:02\n",
      "   ----------------------------------- ---- 40.0/44.5 MB 2.7 MB/s eta 0:00:02\n",
      "   ------------------------------------ --- 40.1/44.5 MB 2.7 MB/s eta 0:00:02\n",
      "   ------------------------------------ --- 40.2/44.5 MB 2.8 MB/s eta 0:00:02\n",
      "   ------------------------------------ --- 40.4/44.5 MB 2.8 MB/s eta 0:00:02\n",
      "   ------------------------------------ --- 40.5/44.5 MB 2.8 MB/s eta 0:00:02\n",
      "   ------------------------------------ --- 40.7/44.5 MB 2.8 MB/s eta 0:00:02\n",
      "   ------------------------------------ --- 40.8/44.5 MB 2.8 MB/s eta 0:00:02\n",
      "   ------------------------------------ --- 41.0/44.5 MB 2.8 MB/s eta 0:00:02\n",
      "   ------------------------------------ --- 41.0/44.5 MB 2.8 MB/s eta 0:00:02\n",
      "   ------------------------------------ --- 41.1/44.5 MB 2.7 MB/s eta 0:00:02\n",
      "   ------------------------------------- -- 41.2/44.5 MB 2.7 MB/s eta 0:00:02\n",
      "   ------------------------------------- -- 41.4/44.5 MB 2.7 MB/s eta 0:00:02\n",
      "   ------------------------------------- -- 41.5/44.5 MB 2.7 MB/s eta 0:00:02\n",
      "   ------------------------------------- -- 41.7/44.5 MB 2.7 MB/s eta 0:00:02\n",
      "   ------------------------------------- -- 41.9/44.5 MB 2.7 MB/s eta 0:00:01\n",
      "   ------------------------------------- -- 42.0/44.5 MB 2.7 MB/s eta 0:00:01\n",
      "   ------------------------------------- -- 42.2/44.5 MB 2.8 MB/s eta 0:00:01\n",
      "   -------------------------------------- - 42.3/44.5 MB 2.7 MB/s eta 0:00:01\n",
      "   -------------------------------------- - 42.5/44.5 MB 2.7 MB/s eta 0:00:01\n",
      "   -------------------------------------- - 42.6/44.5 MB 2.7 MB/s eta 0:00:01\n",
      "   -------------------------------------- - 42.8/44.5 MB 2.7 MB/s eta 0:00:01\n",
      "   -------------------------------------- - 43.0/44.5 MB 2.9 MB/s eta 0:00:01\n",
      "   -------------------------------------- - 43.1/44.5 MB 2.9 MB/s eta 0:00:01\n",
      "   -------------------------------------- - 43.3/44.5 MB 2.9 MB/s eta 0:00:01\n",
      "   ---------------------------------------  43.4/44.5 MB 2.9 MB/s eta 0:00:01\n",
      "   ---------------------------------------  43.6/44.5 MB 2.9 MB/s eta 0:00:01\n",
      "   ---------------------------------------  43.7/44.5 MB 2.9 MB/s eta 0:00:01\n",
      "   ---------------------------------------  43.8/44.5 MB 2.9 MB/s eta 0:00:01\n",
      "   ---------------------------------------  43.9/44.5 MB 2.9 MB/s eta 0:00:01\n",
      "   ---------------------------------------  43.9/44.5 MB 2.9 MB/s eta 0:00:01\n",
      "   ---------------------------------------  43.9/44.5 MB 2.8 MB/s eta 0:00:01\n",
      "   ---------------------------------------  44.0/44.5 MB 2.8 MB/s eta 0:00:01\n",
      "   ---------------------------------------  44.2/44.5 MB 2.8 MB/s eta 0:00:01\n",
      "   ---------------------------------------  44.4/44.5 MB 2.9 MB/s eta 0:00:01\n",
      "   ---------------------------------------  44.5/44.5 MB 2.9 MB/s eta 0:00:01\n",
      "   ---------------------------------------  44.5/44.5 MB 2.9 MB/s eta 0:00:01\n",
      "   ---------------------------------------  44.5/44.5 MB 2.9 MB/s eta 0:00:01\n",
      "   ---------------------------------------  44.5/44.5 MB 2.9 MB/s eta 0:00:01\n",
      "   ---------------------------------------  44.5/44.5 MB 2.9 MB/s eta 0:00:01\n",
      "   ---------------------------------------  44.5/44.5 MB 2.9 MB/s eta 0:00:01\n",
      "   ---------------------------------------  44.5/44.5 MB 2.9 MB/s eta 0:00:01\n",
      "   ---------------------------------------  44.5/44.5 MB 2.9 MB/s eta 0:00:01\n",
      "   ---------------------------------------  44.5/44.5 MB 2.9 MB/s eta 0:00:01\n",
      "   ---------------------------------------  44.5/44.5 MB 2.9 MB/s eta 0:00:01\n",
      "   ---------------------------------------  44.5/44.5 MB 2.9 MB/s eta 0:00:01\n",
      "   ---------------------------------------  44.5/44.5 MB 2.9 MB/s eta 0:00:01\n",
      "   ---------------------------------------  44.5/44.5 MB 2.9 MB/s eta 0:00:01\n",
      "   ---------------------------------------- 44.5/44.5 MB 2.4 MB/s eta 0:00:00\n",
      "Downloading threadpoolctl-3.5.0-py3-none-any.whl (18 kB)\n",
      "Installing collected packages: threadpoolctl, scipy, joblib, scikit-learn\n",
      "Successfully installed joblib-1.4.2 scikit-learn-1.5.1 scipy-1.14.0 threadpoolctl-3.5.0\n",
      "Note: you may need to restart the kernel to use updated packages.\n"
     ]
    },
    {
     "name": "stderr",
     "output_type": "stream",
     "text": [
      "\n",
      "[notice] A new release of pip is available: 23.2.1 -> 24.1.2\n",
      "[notice] To update, run: python.exe -m pip install --upgrade pip\n"
     ]
    }
   ],
   "source": [
    "pip install scikit-learn"
   ]
  },
  {
   "cell_type": "markdown",
   "id": "9acbbd5a-d938-4d2c-88a3-d319c8707a23",
   "metadata": {},
   "source": [
    "## Divide dataset into training and testing set"
   ]
  },
  {
   "cell_type": "code",
   "execution_count": 55,
   "id": "05fbae22-62a3-498e-bd3f-e47ae8707b9f",
   "metadata": {},
   "outputs": [],
   "source": [
    "from sklearn.model_selection import train_test_split\n",
    "X_train, X_test, y_train, y_test = train_test_split(X, y, test_size = 0.25)"
   ]
  },
  {
   "cell_type": "code",
   "execution_count": 56,
   "id": "5db17593-8885-4bfd-a3ae-e40807dc64fd",
   "metadata": {},
   "outputs": [
    {
     "data": {
      "text/plain": [
       "((976, 31), (326, 31))"
      ]
     },
     "execution_count": 56,
     "metadata": {},
     "output_type": "execute_result"
    }
   ],
   "source": [
    "X_train.shape, X_test.shape"
   ]
  },
  {
   "cell_type": "markdown",
   "id": "a2a8c6d0-15b0-4961-87ac-b754704af724",
   "metadata": {},
   "source": [
    "## model training"
   ]
  },
  {
   "cell_type": "code",
   "execution_count": 57,
   "id": "6199f085-6963-4fe8-8577-707877541e5f",
   "metadata": {},
   "outputs": [],
   "source": [
    "def model_acc(model):\n",
    "    model.fit(X_train, y_train)\n",
    "    acc = model.score(X_test, y_test)\n",
    "    print(str(model)+ ' --> ' +str(acc))"
   ]
  },
  {
   "cell_type": "code",
   "execution_count": 58,
   "id": "514f8c4f-247f-476b-a45f-8e85b34c9994",
   "metadata": {},
   "outputs": [
    {
     "name": "stdout",
     "output_type": "stream",
     "text": [
      "LinearRegression() --> 0.7349679550025898\n",
      "Lasso() --> 0.7340002235323995\n",
      "DecisionTreeRegressor() --> 0.5630111933732544\n",
      "RandomForestRegressor() --> 0.7489577827766825\n"
     ]
    }
   ],
   "source": [
    "from sklearn.linear_model import LinearRegression\n",
    "lr = LinearRegression()\n",
    "model_acc(lr)\n",
    "\n",
    "from sklearn.linear_model import Lasso\n",
    "lasso = Lasso()\n",
    "model_acc(lasso)\n",
    "\n",
    "from sklearn.tree import DecisionTreeRegressor\n",
    "dt = DecisionTreeRegressor()\n",
    "model_acc(dt)\n",
    "\n",
    "from sklearn.ensemble import RandomForestRegressor\n",
    "rf = RandomForestRegressor()\n",
    "model_acc(rf)"
   ]
  },
  {
   "cell_type": "markdown",
   "id": "5d3fb922-fdba-4849-8b69-023b280bf5b1",
   "metadata": {},
   "source": [
    "## Hyperparameter tunning"
   ]
  },
  {
   "cell_type": "code",
   "execution_count": 59,
   "id": "9601b081-00cc-43e7-8307-1db63d0f51cd",
   "metadata": {},
   "outputs": [
    {
     "name": "stderr",
     "output_type": "stream",
     "text": [
      "C:\\Users\\Nishadi\\Desktop\\Laptop-Price-Predictor\\Model Building\\env\\Lib\\site-packages\\numpy\\ma\\core.py:2846: RuntimeWarning: invalid value encountered in cast\n",
      "  _data = np.array(data, dtype=dtype, copy=copy,\n"
     ]
    },
    {
     "data": {
      "text/plain": [
       "0.7558495272409683"
      ]
     },
     "execution_count": 59,
     "metadata": {},
     "output_type": "execute_result"
    }
   ],
   "source": [
    "from sklearn.model_selection import GridSearchCV\n",
    "\n",
    "parameters = {'n_estimators':[10, 50, 100],\n",
    "              'criterion':['squared_error','absolute_error','poisson']}\n",
    "\n",
    "grid_obj = GridSearchCV(estimator=rf, param_grid=parameters)\n",
    "\n",
    "grid_fit = grid_obj.fit(X_train, y_train)\n",
    "\n",
    "best_model = grid_fit.best_estimator_\n",
    "\n",
    "best_model.score(X_test, y_test)"
   ]
  },
  {
   "cell_type": "code",
   "execution_count": 60,
   "id": "ea7248f9-1078-4105-af68-7f22b5c28fa9",
   "metadata": {},
   "outputs": [
    {
     "data": {
      "text/plain": [
       "Index(['Ram', 'Weight', 'Touchscreen', 'Ips', 'Company_Acer', 'Company_Apple',\n",
       "       'Company_Asus', 'Company_Dell', 'Company_HP', 'Company_Lenovo',\n",
       "       'Company_MSI', 'Company_Other', 'Company_Toshiba',\n",
       "       'TypeName_2 in 1 Convertible', 'TypeName_Gaming', 'TypeName_Netbook',\n",
       "       'TypeName_Notebook', 'TypeName_Ultrabook', 'TypeName_Workstation',\n",
       "       'OpSys_Linux', 'OpSys_Mac', 'OpSys_Other', 'OpSys_Windows',\n",
       "       'cpu_name_AMD', 'cpu_name_Intel Core i3', 'cpu_name_Intel Core i5',\n",
       "       'cpu_name_Intel Core i7', 'cpu_name_Other', 'gpu_name_AMD',\n",
       "       'gpu_name_Intel', 'gpu_name_Nvidia'],\n",
       "      dtype='object')"
      ]
     },
     "execution_count": 60,
     "metadata": {},
     "output_type": "execute_result"
    }
   ],
   "source": [
    "X_test.columns"
   ]
  },
  {
   "cell_type": "markdown",
   "id": "7b0adedb-cc2f-42d7-8d0c-d251e09d77e3",
   "metadata": {},
   "source": [
    "## Save model"
   ]
  },
  {
   "cell_type": "code",
   "execution_count": 61,
   "id": "09b7280d-26f3-404a-b1b0-90d88c2513dd",
   "metadata": {},
   "outputs": [],
   "source": [
    "import pickle\n",
    "with open('predictor.pickle', 'wb') as file:\n",
    "    pickle.dump(best_model, file)"
   ]
  },
  {
   "cell_type": "code",
   "execution_count": null,
   "id": "7eb6fe18-130a-4bb9-b587-c86c8364e843",
   "metadata": {},
   "outputs": [],
   "source": [
    "X_train.column"
   ]
  },
  {
   "cell_type": "code",
   "execution_count": 62,
   "id": "eb0596c3-d02f-4bae-91d8-699911ecfa46",
   "metadata": {},
   "outputs": [
    {
     "name": "stderr",
     "output_type": "stream",
     "text": [
      "C:\\Users\\Nishadi\\Desktop\\Laptop-Price-Predictor\\Model Building\\env\\Lib\\site-packages\\sklearn\\base.py:493: UserWarning: X does not have valid feature names, but RandomForestRegressor was fitted with feature names\n",
      "  warnings.warn(\n"
     ]
    },
    {
     "data": {
      "text/plain": [
       "array([2128.45764061])"
      ]
     },
     "execution_count": 62,
     "metadata": {},
     "output_type": "execute_result"
    }
   ],
   "source": [
    "pred_value = best_model.predict([[8, 1.3, 1, 1, 0, 1, 0, 1, 0, 0, 0, 0, 0, 0, 0, 1, 0, 0, 1, 0, 0, 1, 0, 0, 0, 0, 1, 0, 1, 0, 0]])\n",
    "pred_value"
   ]
  },
  {
   "cell_type": "code",
   "execution_count": null,
   "id": "54c2cb8d-f7f2-4004-bb2b-8f3cf496c90f",
   "metadata": {},
   "outputs": [],
   "source": []
  }
 ],
 "metadata": {
  "kernelspec": {
   "display_name": "Python 3 (ipykernel)",
   "language": "python",
   "name": "python3"
  },
  "language_info": {
   "codemirror_mode": {
    "name": "ipython",
    "version": 3
   },
   "file_extension": ".py",
   "mimetype": "text/x-python",
   "name": "python",
   "nbconvert_exporter": "python",
   "pygments_lexer": "ipython3",
   "version": "3.12.0"
  }
 },
 "nbformat": 4,
 "nbformat_minor": 5
}
